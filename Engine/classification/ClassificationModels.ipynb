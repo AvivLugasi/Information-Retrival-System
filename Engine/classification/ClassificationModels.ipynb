{
  "nbformat": 4,
  "nbformat_minor": 0,
  "metadata": {
    "colab": {
      "provenance": []
    },
    "kernelspec": {
      "name": "python3",
      "display_name": "Python 3"
    },
    "language_info": {
      "name": "python"
    }
  },
  "cells": [
    {
      "cell_type": "markdown",
      "source": [
        "<h2>Import Libs</h2>"
      ],
      "metadata": {
        "id": "EVcmuejZq1y-"
      }
    },
    {
      "cell_type": "code",
      "execution_count": null,
      "metadata": {
        "id": "pN4kzB1TqVie"
      },
      "outputs": [],
      "source": [
        "# working with the data and vizualization tools\n",
        "import pandas as pd\n",
        "import numpy as np\n",
        "import matplotlib.pyplot as plt\n",
        "import seaborn as sns\n",
        "\n",
        "# pre- processing\n",
        "from sklearn.preprocessing import StandardScaler\n",
        "\n",
        "# K-cross validation\n",
        "from sklearn.model_selection import train_test_split, KFold, GridSearchCV\n",
        "\n",
        "# classification models\n",
        "from sklearn.ensemble import RandomForestClassifier\n",
        "from sklearn.naive_bayes import GaussianNB\n",
        "from sklearn.neighbors import KNeighborsClassifier\n",
        "from sklearn import svm\n",
        "\n",
        "# Dimensionality Reduction\n",
        "from sklearn.decomposition import PCA\n",
        "from sklearn.manifold import TSNE\n",
        "\n",
        "# model evaluation\n",
        "from sklearn.metrics import plot_confusion_matrix, confusion_matrix\n",
        "from sklearn.metrics import accuracy_score\n",
        "\n",
        "# seed\n",
        "RSEED = 10\n",
        "\n",
        "#saving models as plk files\n",
        "from joblib import Parallel, delayed\n",
        "import joblib"
      ]
    },
    {
      "cell_type": "markdown",
      "source": [
        "Printing configuration"
      ],
      "metadata": {
        "id": "6zHDrl3CsF7O"
      }
    },
    {
      "cell_type": "code",
      "source": [
        "#print float number with 6 digit after the decimal point\n",
        "pd.set_option('display.float_format', lambda x: '%.6f' % x)"
      ],
      "metadata": {
        "id": "RoNYML3bsKqG"
      },
      "execution_count": null,
      "outputs": []
    },
    {
      "cell_type": "code",
      "source": [
        "# helper functions\n",
        "\n",
        "def k_cross_validation(x_features, y_label, k):\n",
        "  \"\"\"\n",
        "  create 10 varsions of the train-test data with ratio of 90:10\n",
        "  \"\"\"\n",
        "  # Split the dataset into 10 folds\n",
        "  kf = KFold(n_splits=k, shuffle=True)\n",
        "  # k-cross validation splits list\n",
        "  kcv_list = []\n",
        "\n",
        "  # Iterate through the folds\n",
        "  for train_index, test_index in kf.split(x_features):\n",
        "      # Split the train and test sets\n",
        "      print(train_index)\n",
        "      X_train, X_test = x_features.iloc[train_index,:], x_features.iloc[test_index,:]\n",
        "      y_train, y_test = y_label.iloc[train_index], y_label.iloc[test_index]\n",
        "      batch = [X_train, y_train, X_test, y_test]\n",
        "      kcv_list.append(batch)\n",
        "  return kcv_list"
      ],
      "metadata": {
        "id": "AIaR7rl55ytY"
      },
      "execution_count": null,
      "outputs": []
    },
    {
      "cell_type": "markdown",
      "source": [
        "<h2>Data pre-processing and visualization</h2>"
      ],
      "metadata": {
        "id": "HWbXAIQ7sywi"
      }
    },
    {
      "cell_type": "code",
      "source": [
        "docs_df = pd.read_csv(\"../../ClassificationModelsDatasets/Concatenated-DF.csv\")"
      ],
      "metadata": {
        "id": "EajRm6SZs420"
      },
      "execution_count": null,
      "outputs": []
    },
    {
      "cell_type": "code",
      "source": [
        "docs_df"
      ],
      "metadata": {
        "colab": {
          "base_uri": "https://localhost:8080/",
          "height": 424
        },
        "id": "xJZ0BDkItSJM",
        "outputId": "6e8a7066-7548-45a4-bbb9-08171ccffc95"
      },
      "execution_count": null,
      "outputs": [
        {
          "output_type": "execute_result",
          "data": {
            "text/plain": [
              "    Unnamed: 0  bibliometr  analysi  explain  artifici  intellig    field  \\\n",
              "0            0    0.000000 0.000000 0.000000  0.000000  0.000000 0.000000   \n",
              "1            1    0.000000 0.115750 0.000000  0.000000  0.000000 0.154671   \n",
              "2            2    0.000000 0.115750 0.000000  0.000000  0.000000 0.245148   \n",
              "3            3    0.000000 0.000000 0.000000  0.000000  0.000000 0.000000   \n",
              "4            4    0.000000 0.000000 0.000000  0.000000  0.000000 0.000000   \n",
              "..         ...         ...      ...      ...       ...       ...      ...   \n",
              "95          95    0.000000 0.000000 0.000000  0.000000  0.000000 0.000000   \n",
              "96          96    0.000000 0.146061 0.000000  0.000000  0.000000 0.309343   \n",
              "97          97    1.596030 0.000000 0.000000  0.000000  0.000000 0.245148   \n",
              "98          98    0.000000 0.000000 0.000000  0.000000  0.000000 0.000000   \n",
              "99          99    0.000000 0.115750 0.000000  0.000000  0.000000 0.154671   \n",
              "\n",
              "       jose   alonso     ciro  ...  dittrich  geppert  448â€“461     sluy  \\\n",
              "0  0.000000 0.000000 0.000000  ...  0.000000 0.000000   0.000000 0.000000   \n",
              "1  0.000000 0.000000 0.000000  ...  0.000000 0.000000   0.000000 0.000000   \n",
              "2  0.000000 0.000000 0.000000  ...  0.000000 0.000000   0.000000 0.000000   \n",
              "3  0.000000 0.000000 0.000000  ...  0.000000 0.000000   0.000000 0.000000   \n",
              "4  0.000000 0.000000 0.000000  ...  0.000000 0.000000   0.000000 0.000000   \n",
              "..      ...      ...      ...  ...       ...      ...        ...      ...   \n",
              "95 0.000000 0.000000 0.000000  ...  0.000000 0.000000   0.000000 0.000000   \n",
              "96 0.000000 0.000000 0.000000  ...  0.000000 0.000000   0.000000 0.000000   \n",
              "97 0.000000 0.000000 0.000000  ...  0.000000 0.000000   0.000000 0.000000   \n",
              "98 0.000000 0.000000 0.000000  ...  0.000000 0.000000   0.000000 0.000000   \n",
              "99 0.000000 0.000000 0.000000  ...  0.000000 0.000000   0.000000 0.000000   \n",
              "\n",
              "     remesh   strain   asolid  447â€“467  08468stat  Y-LABEL  \n",
              "0  0.000000 0.000000 0.000000   0.000000   0.000000        0  \n",
              "1  0.000000 0.000000 0.000000   0.000000   0.000000        0  \n",
              "2  0.000000 0.000000 0.000000   0.000000   0.000000        1  \n",
              "3  0.000000 0.000000 0.000000   0.000000   0.000000        0  \n",
              "4  0.000000 0.000000 0.000000   0.000000   0.000000        0  \n",
              "..      ...      ...      ...        ...        ...      ...  \n",
              "95 0.000000 0.000000 0.000000   0.000000   0.000000        0  \n",
              "96 0.000000 0.000000 0.000000   0.000000   0.000000        1  \n",
              "97 0.000000 0.000000 0.000000   0.000000   0.000000        0  \n",
              "98 0.000000 0.000000 0.000000   0.000000   0.000000        1  \n",
              "99 0.000000 0.000000 0.000000   0.000000   0.000000        1  \n",
              "\n",
              "[100 rows x 30302 columns]"
            ],
            "text/html": [
              "\n",
              "  <div id=\"df-7ace562e-79d4-4adc-b3ad-0feb5e13ea5b\">\n",
              "    <div class=\"colab-df-container\">\n",
              "      <div>\n",
              "<style scoped>\n",
              "    .dataframe tbody tr th:only-of-type {\n",
              "        vertical-align: middle;\n",
              "    }\n",
              "\n",
              "    .dataframe tbody tr th {\n",
              "        vertical-align: top;\n",
              "    }\n",
              "\n",
              "    .dataframe thead th {\n",
              "        text-align: right;\n",
              "    }\n",
              "</style>\n",
              "<table border=\"1\" class=\"dataframe\">\n",
              "  <thead>\n",
              "    <tr style=\"text-align: right;\">\n",
              "      <th></th>\n",
              "      <th>Unnamed: 0</th>\n",
              "      <th>bibliometr</th>\n",
              "      <th>analysi</th>\n",
              "      <th>explain</th>\n",
              "      <th>artifici</th>\n",
              "      <th>intellig</th>\n",
              "      <th>field</th>\n",
              "      <th>jose</th>\n",
              "      <th>alonso</th>\n",
              "      <th>ciro</th>\n",
              "      <th>...</th>\n",
              "      <th>dittrich</th>\n",
              "      <th>geppert</th>\n",
              "      <th>448â€“461</th>\n",
              "      <th>sluy</th>\n",
              "      <th>remesh</th>\n",
              "      <th>strain</th>\n",
              "      <th>asolid</th>\n",
              "      <th>447â€“467</th>\n",
              "      <th>08468stat</th>\n",
              "      <th>Y-LABEL</th>\n",
              "    </tr>\n",
              "  </thead>\n",
              "  <tbody>\n",
              "    <tr>\n",
              "      <th>0</th>\n",
              "      <td>0</td>\n",
              "      <td>0.000000</td>\n",
              "      <td>0.000000</td>\n",
              "      <td>0.000000</td>\n",
              "      <td>0.000000</td>\n",
              "      <td>0.000000</td>\n",
              "      <td>0.000000</td>\n",
              "      <td>0.000000</td>\n",
              "      <td>0.000000</td>\n",
              "      <td>0.000000</td>\n",
              "      <td>...</td>\n",
              "      <td>0.000000</td>\n",
              "      <td>0.000000</td>\n",
              "      <td>0.000000</td>\n",
              "      <td>0.000000</td>\n",
              "      <td>0.000000</td>\n",
              "      <td>0.000000</td>\n",
              "      <td>0.000000</td>\n",
              "      <td>0.000000</td>\n",
              "      <td>0.000000</td>\n",
              "      <td>0</td>\n",
              "    </tr>\n",
              "    <tr>\n",
              "      <th>1</th>\n",
              "      <td>1</td>\n",
              "      <td>0.000000</td>\n",
              "      <td>0.115750</td>\n",
              "      <td>0.000000</td>\n",
              "      <td>0.000000</td>\n",
              "      <td>0.000000</td>\n",
              "      <td>0.154671</td>\n",
              "      <td>0.000000</td>\n",
              "      <td>0.000000</td>\n",
              "      <td>0.000000</td>\n",
              "      <td>...</td>\n",
              "      <td>0.000000</td>\n",
              "      <td>0.000000</td>\n",
              "      <td>0.000000</td>\n",
              "      <td>0.000000</td>\n",
              "      <td>0.000000</td>\n",
              "      <td>0.000000</td>\n",
              "      <td>0.000000</td>\n",
              "      <td>0.000000</td>\n",
              "      <td>0.000000</td>\n",
              "      <td>0</td>\n",
              "    </tr>\n",
              "    <tr>\n",
              "      <th>2</th>\n",
              "      <td>2</td>\n",
              "      <td>0.000000</td>\n",
              "      <td>0.115750</td>\n",
              "      <td>0.000000</td>\n",
              "      <td>0.000000</td>\n",
              "      <td>0.000000</td>\n",
              "      <td>0.245148</td>\n",
              "      <td>0.000000</td>\n",
              "      <td>0.000000</td>\n",
              "      <td>0.000000</td>\n",
              "      <td>...</td>\n",
              "      <td>0.000000</td>\n",
              "      <td>0.000000</td>\n",
              "      <td>0.000000</td>\n",
              "      <td>0.000000</td>\n",
              "      <td>0.000000</td>\n",
              "      <td>0.000000</td>\n",
              "      <td>0.000000</td>\n",
              "      <td>0.000000</td>\n",
              "      <td>0.000000</td>\n",
              "      <td>1</td>\n",
              "    </tr>\n",
              "    <tr>\n",
              "      <th>3</th>\n",
              "      <td>3</td>\n",
              "      <td>0.000000</td>\n",
              "      <td>0.000000</td>\n",
              "      <td>0.000000</td>\n",
              "      <td>0.000000</td>\n",
              "      <td>0.000000</td>\n",
              "      <td>0.000000</td>\n",
              "      <td>0.000000</td>\n",
              "      <td>0.000000</td>\n",
              "      <td>0.000000</td>\n",
              "      <td>...</td>\n",
              "      <td>0.000000</td>\n",
              "      <td>0.000000</td>\n",
              "      <td>0.000000</td>\n",
              "      <td>0.000000</td>\n",
              "      <td>0.000000</td>\n",
              "      <td>0.000000</td>\n",
              "      <td>0.000000</td>\n",
              "      <td>0.000000</td>\n",
              "      <td>0.000000</td>\n",
              "      <td>0</td>\n",
              "    </tr>\n",
              "    <tr>\n",
              "      <th>4</th>\n",
              "      <td>4</td>\n",
              "      <td>0.000000</td>\n",
              "      <td>0.000000</td>\n",
              "      <td>0.000000</td>\n",
              "      <td>0.000000</td>\n",
              "      <td>0.000000</td>\n",
              "      <td>0.000000</td>\n",
              "      <td>0.000000</td>\n",
              "      <td>0.000000</td>\n",
              "      <td>0.000000</td>\n",
              "      <td>...</td>\n",
              "      <td>0.000000</td>\n",
              "      <td>0.000000</td>\n",
              "      <td>0.000000</td>\n",
              "      <td>0.000000</td>\n",
              "      <td>0.000000</td>\n",
              "      <td>0.000000</td>\n",
              "      <td>0.000000</td>\n",
              "      <td>0.000000</td>\n",
              "      <td>0.000000</td>\n",
              "      <td>0</td>\n",
              "    </tr>\n",
              "    <tr>\n",
              "      <th>...</th>\n",
              "      <td>...</td>\n",
              "      <td>...</td>\n",
              "      <td>...</td>\n",
              "      <td>...</td>\n",
              "      <td>...</td>\n",
              "      <td>...</td>\n",
              "      <td>...</td>\n",
              "      <td>...</td>\n",
              "      <td>...</td>\n",
              "      <td>...</td>\n",
              "      <td>...</td>\n",
              "      <td>...</td>\n",
              "      <td>...</td>\n",
              "      <td>...</td>\n",
              "      <td>...</td>\n",
              "      <td>...</td>\n",
              "      <td>...</td>\n",
              "      <td>...</td>\n",
              "      <td>...</td>\n",
              "      <td>...</td>\n",
              "      <td>...</td>\n",
              "    </tr>\n",
              "    <tr>\n",
              "      <th>95</th>\n",
              "      <td>95</td>\n",
              "      <td>0.000000</td>\n",
              "      <td>0.000000</td>\n",
              "      <td>0.000000</td>\n",
              "      <td>0.000000</td>\n",
              "      <td>0.000000</td>\n",
              "      <td>0.000000</td>\n",
              "      <td>0.000000</td>\n",
              "      <td>0.000000</td>\n",
              "      <td>0.000000</td>\n",
              "      <td>...</td>\n",
              "      <td>0.000000</td>\n",
              "      <td>0.000000</td>\n",
              "      <td>0.000000</td>\n",
              "      <td>0.000000</td>\n",
              "      <td>0.000000</td>\n",
              "      <td>0.000000</td>\n",
              "      <td>0.000000</td>\n",
              "      <td>0.000000</td>\n",
              "      <td>0.000000</td>\n",
              "      <td>0</td>\n",
              "    </tr>\n",
              "    <tr>\n",
              "      <th>96</th>\n",
              "      <td>96</td>\n",
              "      <td>0.000000</td>\n",
              "      <td>0.146061</td>\n",
              "      <td>0.000000</td>\n",
              "      <td>0.000000</td>\n",
              "      <td>0.000000</td>\n",
              "      <td>0.309343</td>\n",
              "      <td>0.000000</td>\n",
              "      <td>0.000000</td>\n",
              "      <td>0.000000</td>\n",
              "      <td>...</td>\n",
              "      <td>0.000000</td>\n",
              "      <td>0.000000</td>\n",
              "      <td>0.000000</td>\n",
              "      <td>0.000000</td>\n",
              "      <td>0.000000</td>\n",
              "      <td>0.000000</td>\n",
              "      <td>0.000000</td>\n",
              "      <td>0.000000</td>\n",
              "      <td>0.000000</td>\n",
              "      <td>1</td>\n",
              "    </tr>\n",
              "    <tr>\n",
              "      <th>97</th>\n",
              "      <td>97</td>\n",
              "      <td>1.596030</td>\n",
              "      <td>0.000000</td>\n",
              "      <td>0.000000</td>\n",
              "      <td>0.000000</td>\n",
              "      <td>0.000000</td>\n",
              "      <td>0.245148</td>\n",
              "      <td>0.000000</td>\n",
              "      <td>0.000000</td>\n",
              "      <td>0.000000</td>\n",
              "      <td>...</td>\n",
              "      <td>0.000000</td>\n",
              "      <td>0.000000</td>\n",
              "      <td>0.000000</td>\n",
              "      <td>0.000000</td>\n",
              "      <td>0.000000</td>\n",
              "      <td>0.000000</td>\n",
              "      <td>0.000000</td>\n",
              "      <td>0.000000</td>\n",
              "      <td>0.000000</td>\n",
              "      <td>0</td>\n",
              "    </tr>\n",
              "    <tr>\n",
              "      <th>98</th>\n",
              "      <td>98</td>\n",
              "      <td>0.000000</td>\n",
              "      <td>0.000000</td>\n",
              "      <td>0.000000</td>\n",
              "      <td>0.000000</td>\n",
              "      <td>0.000000</td>\n",
              "      <td>0.000000</td>\n",
              "      <td>0.000000</td>\n",
              "      <td>0.000000</td>\n",
              "      <td>0.000000</td>\n",
              "      <td>...</td>\n",
              "      <td>0.000000</td>\n",
              "      <td>0.000000</td>\n",
              "      <td>0.000000</td>\n",
              "      <td>0.000000</td>\n",
              "      <td>0.000000</td>\n",
              "      <td>0.000000</td>\n",
              "      <td>0.000000</td>\n",
              "      <td>0.000000</td>\n",
              "      <td>0.000000</td>\n",
              "      <td>1</td>\n",
              "    </tr>\n",
              "    <tr>\n",
              "      <th>99</th>\n",
              "      <td>99</td>\n",
              "      <td>0.000000</td>\n",
              "      <td>0.115750</td>\n",
              "      <td>0.000000</td>\n",
              "      <td>0.000000</td>\n",
              "      <td>0.000000</td>\n",
              "      <td>0.154671</td>\n",
              "      <td>0.000000</td>\n",
              "      <td>0.000000</td>\n",
              "      <td>0.000000</td>\n",
              "      <td>...</td>\n",
              "      <td>0.000000</td>\n",
              "      <td>0.000000</td>\n",
              "      <td>0.000000</td>\n",
              "      <td>0.000000</td>\n",
              "      <td>0.000000</td>\n",
              "      <td>0.000000</td>\n",
              "      <td>0.000000</td>\n",
              "      <td>0.000000</td>\n",
              "      <td>0.000000</td>\n",
              "      <td>1</td>\n",
              "    </tr>\n",
              "  </tbody>\n",
              "</table>\n",
              "<p>100 rows × 30302 columns</p>\n",
              "</div>\n",
              "      <button class=\"colab-df-convert\" onclick=\"convertToInteractive('df-7ace562e-79d4-4adc-b3ad-0feb5e13ea5b')\"\n",
              "              title=\"Convert this dataframe to an interactive table.\"\n",
              "              style=\"display:none;\">\n",
              "        \n",
              "  <svg xmlns=\"http://www.w3.org/2000/svg\" height=\"24px\"viewBox=\"0 0 24 24\"\n",
              "       width=\"24px\">\n",
              "    <path d=\"M0 0h24v24H0V0z\" fill=\"none\"/>\n",
              "    <path d=\"M18.56 5.44l.94 2.06.94-2.06 2.06-.94-2.06-.94-.94-2.06-.94 2.06-2.06.94zm-11 1L8.5 8.5l.94-2.06 2.06-.94-2.06-.94L8.5 2.5l-.94 2.06-2.06.94zm10 10l.94 2.06.94-2.06 2.06-.94-2.06-.94-.94-2.06-.94 2.06-2.06.94z\"/><path d=\"M17.41 7.96l-1.37-1.37c-.4-.4-.92-.59-1.43-.59-.52 0-1.04.2-1.43.59L10.3 9.45l-7.72 7.72c-.78.78-.78 2.05 0 2.83L4 21.41c.39.39.9.59 1.41.59.51 0 1.02-.2 1.41-.59l7.78-7.78 2.81-2.81c.8-.78.8-2.07 0-2.86zM5.41 20L4 18.59l7.72-7.72 1.47 1.35L5.41 20z\"/>\n",
              "  </svg>\n",
              "      </button>\n",
              "      \n",
              "  <style>\n",
              "    .colab-df-container {\n",
              "      display:flex;\n",
              "      flex-wrap:wrap;\n",
              "      gap: 12px;\n",
              "    }\n",
              "\n",
              "    .colab-df-convert {\n",
              "      background-color: #E8F0FE;\n",
              "      border: none;\n",
              "      border-radius: 50%;\n",
              "      cursor: pointer;\n",
              "      display: none;\n",
              "      fill: #1967D2;\n",
              "      height: 32px;\n",
              "      padding: 0 0 0 0;\n",
              "      width: 32px;\n",
              "    }\n",
              "\n",
              "    .colab-df-convert:hover {\n",
              "      background-color: #E2EBFA;\n",
              "      box-shadow: 0px 1px 2px rgba(60, 64, 67, 0.3), 0px 1px 3px 1px rgba(60, 64, 67, 0.15);\n",
              "      fill: #174EA6;\n",
              "    }\n",
              "\n",
              "    [theme=dark] .colab-df-convert {\n",
              "      background-color: #3B4455;\n",
              "      fill: #D2E3FC;\n",
              "    }\n",
              "\n",
              "    [theme=dark] .colab-df-convert:hover {\n",
              "      background-color: #434B5C;\n",
              "      box-shadow: 0px 1px 3px 1px rgba(0, 0, 0, 0.15);\n",
              "      filter: drop-shadow(0px 1px 2px rgba(0, 0, 0, 0.3));\n",
              "      fill: #FFFFFF;\n",
              "    }\n",
              "  </style>\n",
              "\n",
              "      <script>\n",
              "        const buttonEl =\n",
              "          document.querySelector('#df-7ace562e-79d4-4adc-b3ad-0feb5e13ea5b button.colab-df-convert');\n",
              "        buttonEl.style.display =\n",
              "          google.colab.kernel.accessAllowed ? 'block' : 'none';\n",
              "\n",
              "        async function convertToInteractive(key) {\n",
              "          const element = document.querySelector('#df-7ace562e-79d4-4adc-b3ad-0feb5e13ea5b');\n",
              "          const dataTable =\n",
              "            await google.colab.kernel.invokeFunction('convertToInteractive',\n",
              "                                                     [key], {});\n",
              "          if (!dataTable) return;\n",
              "\n",
              "          const docLinkHtml = 'Like what you see? Visit the ' +\n",
              "            '<a target=\"_blank\" href=https://colab.research.google.com/notebooks/data_table.ipynb>data table notebook</a>'\n",
              "            + ' to learn more about interactive tables.';\n",
              "          element.innerHTML = '';\n",
              "          dataTable['output_type'] = 'display_data';\n",
              "          await google.colab.output.renderOutput(dataTable, element);\n",
              "          const docLink = document.createElement('div');\n",
              "          docLink.innerHTML = docLinkHtml;\n",
              "          element.appendChild(docLink);\n",
              "        }\n",
              "      </script>\n",
              "    </div>\n",
              "  </div>\n",
              "  "
            ]
          },
          "metadata": {},
          "execution_count": 9
        }
      ]
    },
    {
      "cell_type": "code",
      "source": [
        "# remove first col-(number of row(irrelevant))\n",
        "docs_df= docs_df.iloc[:,1:]"
      ],
      "metadata": {
        "id": "2Q5IQyN0tgoF"
      },
      "execution_count": null,
      "outputs": []
    },
    {
      "cell_type": "code",
      "source": [
        "# normalazie the x-features\n",
        "scaler = StandardScaler()\n",
        "x_features = docs_df.iloc[:,0:30089]\n",
        "x_features_scaled = scaler.fit_transform(x_features)\n",
        "\n",
        "# concanted with the y-label\n",
        "scaled_df = np.concatenate((x_features_scaled, docs_df.iloc[:,-1:]), axis=1)"
      ],
      "metadata": {
        "id": "750yoaJct8Fd"
      },
      "execution_count": null,
      "outputs": []
    },
    {
      "cell_type": "markdown",
      "source": [
        "<h3>Dimensionality Reduction</h3>\n",
        "After we normalize our data, lets try to extract the relavant features from it by using PCA. It will also help us to visualize our data."
      ],
      "metadata": {
        "id": "CByHf9vXxSVY"
      }
    },
    {
      "cell_type": "code",
      "source": [
        "# lets choose the create 75 components\n",
        "components = 75\n",
        "\n",
        "pca = PCA(n_components = components)\n",
        "# perform PCA on the scaled data\n",
        "pca.fit(x_features_scaled)"
      ],
      "metadata": {
        "colab": {
          "base_uri": "https://localhost:8080/"
        },
        "id": "CUOSxMTWuENP",
        "outputId": "f1b0f6a6-ee9d-4bab-9402-2f1cbb804034"
      },
      "execution_count": null,
      "outputs": [
        {
          "output_type": "execute_result",
          "data": {
            "text/plain": [
              "PCA(n_components=75)"
            ]
          },
          "metadata": {},
          "execution_count": 12
        }
      ]
    },
    {
      "cell_type": "code",
      "source": [
        "# print the explained variances\n",
        "print(\"Variances (Percentage):\")\n",
        "print(pca.explained_variance_ratio_ * 100)\n",
        "print()"
      ],
      "metadata": {
        "colab": {
          "base_uri": "https://localhost:8080/"
        },
        "id": "gL_0Cig1yKQs",
        "outputId": "10016b2c-96db-42a5-b488-2c39943acbcb"
      },
      "execution_count": null,
      "outputs": [
        {
          "output_type": "stream",
          "name": "stdout",
          "text": [
            "Variances (Percentage):\n",
            "[7.57385783 4.44076547 3.73217867 3.42490006 3.24224376 2.86480163\n",
            " 2.44396636 2.29263574 2.16123778 2.03220527 1.90546534 1.88067925\n",
            " 1.85761276 1.76823421 1.71446056 1.52729472 1.48043767 1.45790901\n",
            " 1.3970839  1.37401116 1.32423955 1.3078687  1.29449377 1.27353943\n",
            " 1.2633941  1.25230138 1.23922252 1.22886805 1.21161148 1.15306194\n",
            " 1.12472933 1.10955362 1.06925867 1.05543702 1.01005523 0.98767851\n",
            " 0.95032589 0.9412557  0.9138128  0.89499267 0.87649758 0.85057149\n",
            " 0.83002146 0.81010374 0.77661575 0.7676186  0.75311628 0.74507415\n",
            " 0.72731481 0.7185142  0.69542005 0.67465709 0.66411032 0.65261434\n",
            " 0.64467892 0.62691464 0.60572277 0.60132111 0.5793969  0.56537248\n",
            " 0.55282382 0.54105648 0.53546094 0.52410426 0.51576625 0.51350002\n",
            " 0.49030963 0.48555091 0.47817469 0.46307814 0.45483481 0.44523514\n",
            " 0.4389541  0.42460873 0.4048339 ]\n",
            "\n"
          ]
        }
      ]
    },
    {
      "cell_type": "code",
      "source": [
        "print(\"Cumulative Variances (Percentage):\")\n",
        "print(pca.explained_variance_ratio_.cumsum() * 100)\n",
        "print()"
      ],
      "metadata": {
        "colab": {
          "base_uri": "https://localhost:8080/"
        },
        "id": "dKRe0035yQvs",
        "outputId": "32e4fe69-7314-47bf-f748-752870ea9abe"
      },
      "execution_count": null,
      "outputs": [
        {
          "output_type": "stream",
          "name": "stdout",
          "text": [
            "Cumulative Variances (Percentage):\n",
            "[ 7.57385783 12.01462329 15.74680197 19.17170202 22.41394578 25.27874741\n",
            " 27.72271377 30.01534951 32.17658729 34.20879255 36.11425789 37.99493714\n",
            " 39.85254989 41.62078411 43.33524467 44.86253939 46.34297706 47.80088607\n",
            " 49.19796997 50.57198113 51.89622068 53.20408938 54.49858315 55.77212258\n",
            " 57.03551668 58.28781806 59.52704059 60.75590863 61.96752011 63.12058205\n",
            " 64.24531138 65.354865   66.42412367 67.47956069 68.48961593 69.47729444\n",
            " 70.42762032 71.36887603 72.28268882 73.1776815  74.05417908 74.90475057\n",
            " 75.73477203 76.54487577 77.32149152 78.08911012 78.8422264  79.58730055\n",
            " 80.31461536 81.03312956 81.72854961 82.4032067  83.06731702 83.71993136\n",
            " 84.36461028 84.99152493 85.5972477  86.19856881 86.77796571 87.34333818\n",
            " 87.89616201 88.43721848 88.97267942 89.49678369 90.01254994 90.52604997\n",
            " 91.0163596  91.50191051 91.9800852  92.44316334 92.89799815 93.34323329\n",
            " 93.78218739 94.20679612 94.61163002]\n",
            "\n"
          ]
        }
      ]
    },
    {
      "cell_type": "code",
      "source": [
        "# plot a scree plot\n",
        "components = len(pca.explained_variance_ratio_) \\\n",
        "    if components is None else components\n",
        "plt.plot(range(1,components+1),\n",
        "         np.cumsum(pca.explained_variance_ratio_ * 100))\n",
        "plt.xlabel(\"Number of components\")\n",
        "plt.ylabel(\"Explained variance (%)\")\n"
      ],
      "metadata": {
        "colab": {
          "base_uri": "https://localhost:8080/",
          "height": 297
        },
        "id": "FmwbYtY-yWQQ",
        "outputId": "23a414ed-9785-46be-c68b-c707d8e44d0b"
      },
      "execution_count": null,
      "outputs": [
        {
          "output_type": "execute_result",
          "data": {
            "text/plain": [
              "Text(0, 0.5, 'Explained variance (%)')"
            ]
          },
          "metadata": {},
          "execution_count": 15
        },
        {
          "output_type": "display_data",
          "data": {
            "text/plain": [
              "<Figure size 432x288 with 1 Axes>"
            ],
            "image/png": "[encoded data removed]"
          },
          "metadata": {
            "needs_background": "light"
          }
        }
      ]
    },
    {
      "cell_type": "markdown",
      "source": [
        "As we can see we can explain about 95% of the varience in the data using 75 principal components. using those 75 components we can train our model\n",
        "using much less features and therefore:\n",
        "- train our models much faster.\n",
        "- avoid to complex model that tend to overfitting."
      ],
      "metadata": {
        "id": "MWu13Vopyemg"
      }
    },
    {
      "cell_type": "code",
      "source": [
        "# extract 75 PC's from our x-features\n",
        "X_pca = pca.transform(x_features_scaled)\n",
        "print(X_pca.shape)"
      ],
      "metadata": {
        "colab": {
          "base_uri": "https://localhost:8080/"
        },
        "id": "QQnEBCLFyeNs",
        "outputId": "4c7e64a1-93d5-45ec-cb66-7a563ebd549d"
      },
      "execution_count": null,
      "outputs": [
        {
          "output_type": "stream",
          "name": "stdout",
          "text": [
            "(100, 75)\n"
          ]
        }
      ]
    },
    {
      "cell_type": "code",
      "source": [
        "# concanted with the y-label\n",
        "train_test_data = np.concatenate((X_pca, docs_df.iloc[:,-1:]), axis=1)\n",
        "train_test_data.shape"
      ],
      "metadata": {
        "colab": {
          "base_uri": "https://localhost:8080/"
        },
        "id": "IiTFsRxSzuF3",
        "outputId": "d09c1978-72a9-4dc0-f50e-d32ada175c3f"
      },
      "execution_count": null,
      "outputs": [
        {
          "output_type": "execute_result",
          "data": {
            "text/plain": [
              "(100, 76)"
            ]
          },
          "metadata": {},
          "execution_count": 17
        }
      ]
    },
    {
      "cell_type": "markdown",
      "source": [
        "<h3>Visualize the data using T-sne</h3>"
      ],
      "metadata": {
        "id": "7EcgAG3j0Jsr"
      }
    },
    {
      "cell_type": "code",
      "source": [
        "tsne = TSNE()\n",
        "# transform the x- features\n",
        "X_embedded = tsne.fit_transform(train_test_data[:,:75])"
      ],
      "metadata": {
        "id": "cd2KXF-l0R2h",
        "colab": {
          "base_uri": "https://localhost:8080/"
        },
        "outputId": "8e5d7a61-0405-44a5-c4c7-53dea6f04372"
      },
      "execution_count": null,
      "outputs": [
        {
          "output_type": "stream",
          "name": "stderr",
          "text": [
            "/usr/local/lib/python3.8/dist-packages/sklearn/manifold/_t_sne.py:780: FutureWarning: The default initialization in TSNE will change from 'random' to 'pca' in 1.2.\n",
            "  warnings.warn(\n",
            "/usr/local/lib/python3.8/dist-packages/sklearn/manifold/_t_sne.py:790: FutureWarning: The default learning rate in TSNE will change from 200.0 to 'auto' in 1.2.\n",
            "  warnings.warn(\n"
          ]
        }
      ]
    },
    {
      "cell_type": "code",
      "source": [
        "# concanted with the y-label\n",
        "embedded_df = np.concatenate((X_embedded, docs_df.iloc[:,-1:]), axis=1)"
      ],
      "metadata": {
        "id": "6OnN2bln1Gpn"
      },
      "execution_count": null,
      "outputs": []
    },
    {
      "cell_type": "code",
      "source": [
        "# rename y-col\n",
        "embedded_df = pd.DataFrame(embedded_df)\n",
        "embedded_df.rename(columns={2: 'Category'}, inplace=True)"
      ],
      "metadata": {
        "id": "VOjZkPti1Rri"
      },
      "execution_count": null,
      "outputs": []
    },
    {
      "cell_type": "code",
      "source": [
        "# create plot\n",
        "plt.figure(figsize=(10, 10))\n",
        "sns.scatterplot(data=embedded_df, x=0, y=1, hue='Category')"
      ],
      "metadata": {
        "colab": {
          "base_uri": "https://localhost:8080/",
          "height": 624
        },
        "id": "jsMpNt0Q11La",
        "outputId": "79151ce9-5a29-4001-d308-89c6c44a5d43"
      },
      "execution_count": null,
      "outputs": [
        {
          "output_type": "execute_result",
          "data": {
            "text/plain": [
              "<matplotlib.axes._subplots.AxesSubplot at 0x7f1dc6d35e50>"
            ]
          },
          "metadata": {},
          "execution_count": 21
        },
        {
          "output_type": "display_data",
          "data": {
            "text/plain": [
              "<Figure size 720x720 with 1 Axes>"
            ],
            "image/png": "[encoded data removed]"
          },
          "metadata": {
            "needs_background": "light"
          }
        }
      ]
    },
    {
      "cell_type": "markdown",
      "source": [
        "It seems like our categories(belong to explaing AI(1), not belong to explaing Ai(0)), are not linearly separated."
      ],
      "metadata": {
        "id": "6WCSQ4kv4hWM"
      }
    },
    {
      "cell_type": "markdown",
      "source": [
        "<h3>K-cross validation<h3>"
      ],
      "metadata": {
        "id": "MkeVoSQL9G22"
      }
    },
    {
      "cell_type": "code",
      "source": [
        "\"../ClassificationModelsDatasets/Concatenated-DF.csv\"# using k = 10\n",
        "kcv_list = k_cross_validation(x_features=pd.DataFrame(train_test_data[:,:75]), y_label=docs_df.iloc[:,-1:], k=10)"
      ],
      "metadata": {
        "id": "xz_g390u9KmL"
      },
      "execution_count": null,
      "outputs": []
    },
    {
      "cell_type": "markdown",
      "source": [
        "<h2>Applying classification models</h2>"
      ],
      "metadata": {
        "id": "jHIwLPjZ5lIc"
      }
    },
    {
      "cell_type": "markdown",
      "source": [
        "<h3>KNN</h3>"
      ],
      "metadata": {
        "id": "6keG5b3z5qsn"
      }
    },
    {
      "cell_type": "code",
      "source": [
        "best_classifier_knn = None\n",
        "best_accu_knn = 0\n",
        "best_x_test_knn = None\n",
        "best_y_test_knn = None\n",
        "\n",
        "for batch in kcv_list:\n",
        "  x_train = batch[0]\n",
        "  y_train = batch[1]\n",
        "  x_test = batch[2]\n",
        "  y_test = batch[3]\n",
        "  # normalize x-features\n",
        "  sc = StandardScaler()\n",
        "  x_train = sc.fit_transform(x_train)\n",
        "  x_test = sc.fit_transform(x_test)\n",
        "\n",
        "  knn = KNeighborsClassifier()\n",
        "\n",
        "  # define parameter grid\n",
        "  parameters_grid = {\n",
        "      'n_neighbors': [ 3, 5, 10],\n",
        "      'weights': ['uniform', 'distance']\n",
        "  }\n",
        "\n",
        "  # define grid search\n",
        "  grid_search = GridSearchCV(estimator=knn, param_grid=parameters_grid)\n",
        "\n",
        "\n",
        "  # fit estimator\n",
        "  grid_search.fit(x_train, y_train)\n",
        "\n",
        "  # get best estimator\n",
        "  best = grid_search.best_estimator_\n",
        "\n",
        "  # predict\n",
        "  y_pred = best.predict(x_test)\n",
        "\n",
        "\n",
        "  # calculate accuracy\n",
        "  acc = round(accuracy_score(y_test, y_pred), 3)\n",
        "\n",
        "  # update best classifier\n",
        "  if acc > best_accu_knn:\n",
        "    best_accu_knn = acc\n",
        "    best_classifier_knn = best\n",
        "    best_x_test_knn = x_test\n",
        "    best_y_test_knn = y_test"
      ],
      "metadata": {
        "id": "mPgv9VBh1-0Y"
      },
      "execution_count": null,
      "outputs": []
    },
    {
      "cell_type": "markdown",
      "source": [
        "<H3>Evaluate the model</H3>"
      ],
      "metadata": {
        "id": "jD6c3Fz9XwwZ"
      }
    },
    {
      "cell_type": "code",
      "source": [
        "print(\"KNN best classifier accuracy is {}\".format(best_accu_knn))"
      ],
      "metadata": {
        "colab": {
          "base_uri": "https://localhost:8080/"
        },
        "id": "JI6N6nSCW-Vk",
        "outputId": "f39b1a4f-0e62-4866-fd62-2e84b736c7bf"
      },
      "execution_count": null,
      "outputs": [
        {
          "output_type": "stream",
          "name": "stdout",
          "text": [
            "KNN best classifier accuracy is 1.0\n"
          ]
        }
      ]
    },
    {
      "cell_type": "code",
      "source": [
        "# confusion matrix\n",
        "y_pred = best_classifier_knn.predict(best_x_test_knn)\n",
        "plot_confusion_matrix(best_classifier_knn, best_x_test_knn, best_y_test_knn)\n",
        "plt.show()\n",
        "\n",
        "tp, fn, fp, tn = confusion_matrix(best_y_test_knn, y_pred).ravel()\n",
        "eval_Df = {\"sensitivity\": tp/(tp+fn), \"specificity\": tn/(tn+fp)}\n",
        "pd.DataFrame(data=eval_Df, index=[0])"
      ],
      "metadata": {
        "colab": {
          "base_uri": "https://localhost:8080/",
          "height": 402
        },
        "id": "HPsuSXOaXnPF",
        "outputId": "3d318c77-6bcb-40cc-c4e4-16715ab4ee51"
      },
      "execution_count": null,
      "outputs": [
        {
          "output_type": "stream",
          "name": "stderr",
          "text": [
            "/usr/local/lib/python3.8/dist-packages/sklearn/utils/deprecation.py:87: FutureWarning: Function plot_confusion_matrix is deprecated; Function `plot_confusion_matrix` is deprecated in 1.0 and will be removed in 1.2. Use one of the class methods: ConfusionMatrixDisplay.from_predictions or ConfusionMatrixDisplay.from_estimator.\n",
            "  warnings.warn(msg, category=FutureWarning)\n"
          ]
        },
        {
          "output_type": "display_data",
          "data": {
            "text/plain": [
              "<Figure size 432x288 with 2 Axes>"
            ],
            "image/png": "[encoded data removed]"
          },
          "metadata": {
            "needs_background": "light"
          }
        },
        {
          "output_type": "execute_result",
          "data": {
            "text/plain": [
              "   sensitivity  specificity\n",
              "0     1.000000     1.000000"
            ],
            "text/html": [
              "\n",
              "  <div id=\"df-b4b75316-7975-4421-a32d-1117cb1599ef\">\n",
              "    <div class=\"colab-df-container\">\n",
              "      <div>\n",
              "<style scoped>\n",
              "    .dataframe tbody tr th:only-of-type {\n",
              "        vertical-align: middle;\n",
              "    }\n",
              "\n",
              "    .dataframe tbody tr th {\n",
              "        vertical-align: top;\n",
              "    }\n",
              "\n",
              "    .dataframe thead th {\n",
              "        text-align: right;\n",
              "    }\n",
              "</style>\n",
              "<table border=\"1\" class=\"dataframe\">\n",
              "  <thead>\n",
              "    <tr style=\"text-align: right;\">\n",
              "      <th></th>\n",
              "      <th>sensitivity</th>\n",
              "      <th>specificity</th>\n",
              "    </tr>\n",
              "  </thead>\n",
              "  <tbody>\n",
              "    <tr>\n",
              "      <th>0</th>\n",
              "      <td>1.000000</td>\n",
              "      <td>1.000000</td>\n",
              "    </tr>\n",
              "  </tbody>\n",
              "</table>\n",
              "</div>\n",
              "      <button class=\"colab-df-convert\" onclick=\"convertToInteractive('df-b4b75316-7975-4421-a32d-1117cb1599ef')\"\n",
              "              title=\"Convert this dataframe to an interactive table.\"\n",
              "              style=\"display:none;\">\n",
              "        \n",
              "  <svg xmlns=\"http://www.w3.org/2000/svg\" height=\"24px\"viewBox=\"0 0 24 24\"\n",
              "       width=\"24px\">\n",
              "    <path d=\"M0 0h24v24H0V0z\" fill=\"none\"/>\n",
              "    <path d=\"M18.56 5.44l.94 2.06.94-2.06 2.06-.94-2.06-.94-.94-2.06-.94 2.06-2.06.94zm-11 1L8.5 8.5l.94-2.06 2.06-.94-2.06-.94L8.5 2.5l-.94 2.06-2.06.94zm10 10l.94 2.06.94-2.06 2.06-.94-2.06-.94-.94-2.06-.94 2.06-2.06.94z\"/><path d=\"M17.41 7.96l-1.37-1.37c-.4-.4-.92-.59-1.43-.59-.52 0-1.04.2-1.43.59L10.3 9.45l-7.72 7.72c-.78.78-.78 2.05 0 2.83L4 21.41c.39.39.9.59 1.41.59.51 0 1.02-.2 1.41-.59l7.78-7.78 2.81-2.81c.8-.78.8-2.07 0-2.86zM5.41 20L4 18.59l7.72-7.72 1.47 1.35L5.41 20z\"/>\n",
              "  </svg>\n",
              "      </button>\n",
              "      \n",
              "  <style>\n",
              "    .colab-df-container {\n",
              "      display:flex;\n",
              "      flex-wrap:wrap;\n",
              "      gap: 12px;\n",
              "    }\n",
              "\n",
              "    .colab-df-convert {\n",
              "      background-color: #E8F0FE;\n",
              "      border: none;\n",
              "      border-radius: 50%;\n",
              "      cursor: pointer;\n",
              "      display: none;\n",
              "      fill: #1967D2;\n",
              "      height: 32px;\n",
              "      padding: 0 0 0 0;\n",
              "      width: 32px;\n",
              "    }\n",
              "\n",
              "    .colab-df-convert:hover {\n",
              "      background-color: #E2EBFA;\n",
              "      box-shadow: 0px 1px 2px rgba(60, 64, 67, 0.3), 0px 1px 3px 1px rgba(60, 64, 67, 0.15);\n",
              "      fill: #174EA6;\n",
              "    }\n",
              "\n",
              "    [theme=dark] .colab-df-convert {\n",
              "      background-color: #3B4455;\n",
              "      fill: #D2E3FC;\n",
              "    }\n",
              "\n",
              "    [theme=dark] .colab-df-convert:hover {\n",
              "      background-color: #434B5C;\n",
              "      box-shadow: 0px 1px 3px 1px rgba(0, 0, 0, 0.15);\n",
              "      filter: drop-shadow(0px 1px 2px rgba(0, 0, 0, 0.3));\n",
              "      fill: #FFFFFF;\n",
              "    }\n",
              "  </style>\n",
              "\n",
              "      <script>\n",
              "        const buttonEl =\n",
              "          document.querySelector('#df-b4b75316-7975-4421-a32d-1117cb1599ef button.colab-df-convert');\n",
              "        buttonEl.style.display =\n",
              "          google.colab.kernel.accessAllowed ? 'block' : 'none';\n",
              "\n",
              "        async function convertToInteractive(key) {\n",
              "          const element = document.querySelector('#df-b4b75316-7975-4421-a32d-1117cb1599ef');\n",
              "          const dataTable =\n",
              "            await google.colab.kernel.invokeFunction('convertToInteractive',\n",
              "                                                     [key], {});\n",
              "          if (!dataTable) return;\n",
              "\n",
              "          const docLinkHtml = 'Like what you see? Visit the ' +\n",
              "            '<a target=\"_blank\" href=https://colab.research.google.com/notebooks/data_table.ipynb>data table notebook</a>'\n",
              "            + ' to learn more about interactive tables.';\n",
              "          element.innerHTML = '';\n",
              "          dataTable['output_type'] = 'display_data';\n",
              "          await google.colab.output.renderOutput(dataTable, element);\n",
              "          const docLink = document.createElement('div');\n",
              "          docLink.innerHTML = docLinkHtml;\n",
              "          element.appendChild(docLink);\n",
              "        }\n",
              "      </script>\n",
              "    </div>\n",
              "  </div>\n",
              "  "
            ]
          },
          "metadata": {},
          "execution_count": 25
        }
      ]
    },
    {
      "cell_type": "markdown",
      "source": [
        "<h3>SVM</h3>"
      ],
      "metadata": {
        "id": "DRRFQoCxY626"
      }
    },
    {
      "cell_type": "code",
      "source": [
        "best_classifier_SVM = None\n",
        "best_accu_SVM = 0\n",
        "best_x_test_SVM = None\n",
        "best_y_test_SVM = None\n",
        "\n",
        "for batch in kcv_list:\n",
        "  x_train = batch[0]\n",
        "  y_train = batch[1]\n",
        "  x_test = batch[2]\n",
        "  y_test = batch[3]\n",
        "  # normalize x-features\n",
        "  sc = StandardScaler()\n",
        "  x_train = sc.fit_transform(x_train)\n",
        "  x_test = sc.fit_transform(x_test)\n",
        "\n",
        "  clf = svm.SVC(random_state=RSEED)\n",
        "\n",
        "  # define parameter grid\n",
        "  parameters_grid = {\n",
        "      'C': [0.1, 0.5,0.7,1.2,1.5,20,40,60],\n",
        "      'kernel': ['linear', 'poly','rbf', 'sigmoid'],\n",
        "      'degree': [3,4],\n",
        "\n",
        "  }\n",
        "\n",
        "  # define grid search\n",
        "  grid_search = GridSearchCV(estimator=clf, param_grid=parameters_grid)\n",
        "\n",
        "\n",
        "\n",
        "  # fit estimator\n",
        "  grid_search.fit(x_train, y_train)\n",
        "\n",
        "  # get best estimator\n",
        "  best = grid_search.best_estimator_\n",
        "\n",
        "  # predict\n",
        "  y_pred = best.predict(x_test)\n",
        "\n",
        "\n",
        "  # calculate accuracy\n",
        "  acc = round(accuracy_score(y_test, y_pred), 3)\n",
        "\n",
        "  # update best classifier\n",
        "  if acc > best_accu_SVM:\n",
        "    best_accu_SVM = acc\n",
        "    best_classifier_SVM = best\n",
        "    best_x_test_SVM = x_test\n",
        "    best_y_test_SVM = y_test"
      ],
      "metadata": {
        "id": "4AUmFNDQY6eK"
      },
      "execution_count": null,
      "outputs": []
    },
    {
      "cell_type": "markdown",
      "source": [
        "<H3>Evaluate the model</H3>"
      ],
      "metadata": {
        "id": "vym6zlmsZx4f"
      }
    },
    {
      "cell_type": "code",
      "source": [
        "print(\"SVM best classifier accuracy is {}\".format(best_accu_SVM))"
      ],
      "metadata": {
        "colab": {
          "base_uri": "https://localhost:8080/"
        },
        "id": "a-Hv_EMEZqS1",
        "outputId": "42778e92-6305-481c-a781-097a016ddf6a"
      },
      "execution_count": null,
      "outputs": [
        {
          "output_type": "stream",
          "name": "stdout",
          "text": [
            "SVM best classifier accuracy is 1.0\n"
          ]
        }
      ]
    },
    {
      "cell_type": "code",
      "source": [
        "# confusion matrix\n",
        "y_pred = best_classifier_SVM.predict(best_x_test_SVM)\n",
        "plot_confusion_matrix(best_classifier_SVM, best_x_test_SVM, best_y_test_SVM)\n",
        "plt.show()\n",
        "\n",
        "tp, fn, fp, tn = confusion_matrix(best_y_test_SVM, y_pred).ravel()\n",
        "eval_Df = {\"sensitivity\": tp/(tp+fn), \"specificity\": tn/(tn+fp)}\n",
        "pd.DataFrame(data=eval_Df, index=[0])"
      ],
      "metadata": {
        "colab": {
          "base_uri": "https://localhost:8080/",
          "height": 402
        },
        "id": "7ZfwNK7baEbS",
        "outputId": "ebbcd95e-5aeb-4315-ebfe-6316e363c52c"
      },
      "execution_count": null,
      "outputs": [
        {
          "output_type": "stream",
          "name": "stderr",
          "text": [
            "/usr/local/lib/python3.8/dist-packages/sklearn/utils/deprecation.py:87: FutureWarning: Function plot_confusion_matrix is deprecated; Function `plot_confusion_matrix` is deprecated in 1.0 and will be removed in 1.2. Use one of the class methods: ConfusionMatrixDisplay.from_predictions or ConfusionMatrixDisplay.from_estimator.\n",
            "  warnings.warn(msg, category=FutureWarning)\n"
          ]
        },
        {
          "output_type": "display_data",
          "data": {
            "text/plain": [
              "<Figure size 432x288 with 2 Axes>"
            ],
            "image/png": "[encoded data removed]"
          },
          "metadata": {
            "needs_background": "light"
          }
        },
        {
          "output_type": "execute_result",
          "data": {
            "text/plain": [
              "   sensitivity  specificity\n",
              "0     1.000000     1.000000"
            ],
            "text/html": [
              "\n",
              "  <div id=\"df-319635e4-d6c0-4656-aa77-edc80d35e65b\">\n",
              "    <div class=\"colab-df-container\">\n",
              "      <div>\n",
              "<style scoped>\n",
              "    .dataframe tbody tr th:only-of-type {\n",
              "        vertical-align: middle;\n",
              "    }\n",
              "\n",
              "    .dataframe tbody tr th {\n",
              "        vertical-align: top;\n",
              "    }\n",
              "\n",
              "    .dataframe thead th {\n",
              "        text-align: right;\n",
              "    }\n",
              "</style>\n",
              "<table border=\"1\" class=\"dataframe\">\n",
              "  <thead>\n",
              "    <tr style=\"text-align: right;\">\n",
              "      <th></th>\n",
              "      <th>sensitivity</th>\n",
              "      <th>specificity</th>\n",
              "    </tr>\n",
              "  </thead>\n",
              "  <tbody>\n",
              "    <tr>\n",
              "      <th>0</th>\n",
              "      <td>1.000000</td>\n",
              "      <td>1.000000</td>\n",
              "    </tr>\n",
              "  </tbody>\n",
              "</table>\n",
              "</div>\n",
              "      <button class=\"colab-df-convert\" onclick=\"convertToInteractive('df-319635e4-d6c0-4656-aa77-edc80d35e65b')\"\n",
              "              title=\"Convert this dataframe to an interactive table.\"\n",
              "              style=\"display:none;\">\n",
              "        \n",
              "  <svg xmlns=\"http://www.w3.org/2000/svg\" height=\"24px\"viewBox=\"0 0 24 24\"\n",
              "       width=\"24px\">\n",
              "    <path d=\"M0 0h24v24H0V0z\" fill=\"none\"/>\n",
              "    <path d=\"M18.56 5.44l.94 2.06.94-2.06 2.06-.94-2.06-.94-.94-2.06-.94 2.06-2.06.94zm-11 1L8.5 8.5l.94-2.06 2.06-.94-2.06-.94L8.5 2.5l-.94 2.06-2.06.94zm10 10l.94 2.06.94-2.06 2.06-.94-2.06-.94-.94-2.06-.94 2.06-2.06.94z\"/><path d=\"M17.41 7.96l-1.37-1.37c-.4-.4-.92-.59-1.43-.59-.52 0-1.04.2-1.43.59L10.3 9.45l-7.72 7.72c-.78.78-.78 2.05 0 2.83L4 21.41c.39.39.9.59 1.41.59.51 0 1.02-.2 1.41-.59l7.78-7.78 2.81-2.81c.8-.78.8-2.07 0-2.86zM5.41 20L4 18.59l7.72-7.72 1.47 1.35L5.41 20z\"/>\n",
              "  </svg>\n",
              "      </button>\n",
              "      \n",
              "  <style>\n",
              "    .colab-df-container {\n",
              "      display:flex;\n",
              "      flex-wrap:wrap;\n",
              "      gap: 12px;\n",
              "    }\n",
              "\n",
              "    .colab-df-convert {\n",
              "      background-color: #E8F0FE;\n",
              "      border: none;\n",
              "      border-radius: 50%;\n",
              "      cursor: pointer;\n",
              "      display: none;\n",
              "      fill: #1967D2;\n",
              "      height: 32px;\n",
              "      padding: 0 0 0 0;\n",
              "      width: 32px;\n",
              "    }\n",
              "\n",
              "    .colab-df-convert:hover {\n",
              "      background-color: #E2EBFA;\n",
              "      box-shadow: 0px 1px 2px rgba(60, 64, 67, 0.3), 0px 1px 3px 1px rgba(60, 64, 67, 0.15);\n",
              "      fill: #174EA6;\n",
              "    }\n",
              "\n",
              "    [theme=dark] .colab-df-convert {\n",
              "      background-color: #3B4455;\n",
              "      fill: #D2E3FC;\n",
              "    }\n",
              "\n",
              "    [theme=dark] .colab-df-convert:hover {\n",
              "      background-color: #434B5C;\n",
              "      box-shadow: 0px 1px 3px 1px rgba(0, 0, 0, 0.15);\n",
              "      filter: drop-shadow(0px 1px 2px rgba(0, 0, 0, 0.3));\n",
              "      fill: #FFFFFF;\n",
              "    }\n",
              "  </style>\n",
              "\n",
              "      <script>\n",
              "        const buttonEl =\n",
              "          document.querySelector('#df-319635e4-d6c0-4656-aa77-edc80d35e65b button.colab-df-convert');\n",
              "        buttonEl.style.display =\n",
              "          google.colab.kernel.accessAllowed ? 'block' : 'none';\n",
              "\n",
              "        async function convertToInteractive(key) {\n",
              "          const element = document.querySelector('#df-319635e4-d6c0-4656-aa77-edc80d35e65b');\n",
              "          const dataTable =\n",
              "            await google.colab.kernel.invokeFunction('convertToInteractive',\n",
              "                                                     [key], {});\n",
              "          if (!dataTable) return;\n",
              "\n",
              "          const docLinkHtml = 'Like what you see? Visit the ' +\n",
              "            '<a target=\"_blank\" href=https://colab.research.google.com/notebooks/data_table.ipynb>data table notebook</a>'\n",
              "            + ' to learn more about interactive tables.';\n",
              "          element.innerHTML = '';\n",
              "          dataTable['output_type'] = 'display_data';\n",
              "          await google.colab.output.renderOutput(dataTable, element);\n",
              "          const docLink = document.createElement('div');\n",
              "          docLink.innerHTML = docLinkHtml;\n",
              "          element.appendChild(docLink);\n",
              "        }\n",
              "      </script>\n",
              "    </div>\n",
              "  </div>\n",
              "  "
            ]
          },
          "metadata": {},
          "execution_count": 28
        }
      ]
    },
    {
      "cell_type": "markdown",
      "source": [
        "<h3>Random Forest</h3>"
      ],
      "metadata": {
        "id": "IJPjiff9aoix"
      }
    },
    {
      "cell_type": "code",
      "source": [
        "best_classifier_RF = None\n",
        "best_accu_RF = 0\n",
        "best_x_test_RF = None\n",
        "best_y_test_RF = None\n",
        "\n",
        "for batch in kcv_list:\n",
        "  x_train = batch[0]\n",
        "  y_train = batch[1]\n",
        "  x_test = batch[2]\n",
        "  y_test = batch[3]\n",
        "\n",
        "  # define model\n",
        "  rf = RandomForestClassifier(random_state=RSEED)\n",
        "\n",
        "  # define parameter grid\n",
        "  parameters_grid = {\n",
        "      'max_depth': [2, 3, 4, 6],\n",
        "      'min_samples_split': [2, 4, 8],\n",
        "      'min_samples_leaf': [2, 8],\n",
        "      'n_estimators': [50,70,100]\n",
        "  }\n",
        "   # define grid search\n",
        "  grid_search = GridSearchCV(estimator=rf, param_grid=parameters_grid)\n",
        "\n",
        "\n",
        "\n",
        "  # fit estimator\n",
        "  grid_search.fit(x_train, y_train)\n",
        "\n",
        "  # get best estimator\n",
        "  best = grid_search.best_estimator_\n",
        "\n",
        "  # predict\n",
        "  y_pred = best.predict(x_test)\n",
        "\n",
        "\n",
        "  # calculate accuracy\n",
        "  acc = round(accuracy_score(y_test, y_pred), 3)\n",
        "\n",
        "  # update best classifier\n",
        "  if acc > best_accu_RF:\n",
        "    best_accu_RF = acc\n",
        "    best_classifier_RF = best\n",
        "    best_x_test_RF = x_test\n",
        "    best_y_test_RF = y_test"
      ],
      "metadata": {
        "id": "SQWuJn07al59"
      },
      "execution_count": null,
      "outputs": []
    },
    {
      "cell_type": "markdown",
      "source": [
        "<h3>Evaluate the model</h3>"
      ],
      "metadata": {
        "id": "Lc2mttBAc8Oo"
      }
    },
    {
      "cell_type": "code",
      "source": [
        "print(\"Random forest best classifier accuracy is {}\".format(best_accu_RF))"
      ],
      "metadata": {
        "colab": {
          "base_uri": "https://localhost:8080/"
        },
        "id": "dtVu_F1bc7ka",
        "outputId": "ab457ec2-cbeb-4e4e-f32f-b10d8a748734"
      },
      "execution_count": null,
      "outputs": [
        {
          "output_type": "stream",
          "name": "stdout",
          "text": [
            "Random forest best classifier accuracy is 1.0\n"
          ]
        }
      ]
    },
    {
      "cell_type": "code",
      "source": [
        "# confusion matrix\n",
        "y_pred = best_classifier_RF.predict(best_x_test_RF)\n",
        "plot_confusion_matrix(best_classifier_RF, best_x_test_RF, best_y_test_RF)\n",
        "plt.show()\n",
        "\n",
        "tp, fn, fp, tn = confusion_matrix(best_y_test_RF, y_pred).ravel()\n",
        "eval_Df = {\"sensitivity\": tp/(tp+fn), \"specificity\": tn/(tn+fp)}\n",
        "pd.DataFrame(data=eval_Df, index=[0])"
      ],
      "metadata": {
        "colab": {
          "base_uri": "https://localhost:8080/",
          "height": 402
        },
        "id": "uT1s5aWIdp9J",
        "outputId": "1b1e0ab1-7718-4ecb-9c72-40031ca085f5"
      },
      "execution_count": null,
      "outputs": [
        {
          "output_type": "stream",
          "name": "stderr",
          "text": [
            "/usr/local/lib/python3.8/dist-packages/sklearn/utils/deprecation.py:87: FutureWarning: Function plot_confusion_matrix is deprecated; Function `plot_confusion_matrix` is deprecated in 1.0 and will be removed in 1.2. Use one of the class methods: ConfusionMatrixDisplay.from_predictions or ConfusionMatrixDisplay.from_estimator.\n",
            "  warnings.warn(msg, category=FutureWarning)\n"
          ]
        },
        {
          "output_type": "display_data",
          "data": {
            "text/plain": [
              "<Figure size 432x288 with 2 Axes>"
            ],
            "image/png": "[encoded data removed]"
          },
          "metadata": {
            "needs_background": "light"
          }
        },
        {
          "output_type": "execute_result",
          "data": {
            "text/plain": [
              "   sensitivity  specificity\n",
              "0     1.000000     1.000000"
            ],
            "text/html": [
              "\n",
              "  <div id=\"df-9c347ea2-959d-44ea-a064-c3b1e834b7ae\">\n",
              "    <div class=\"colab-df-container\">\n",
              "      <div>\n",
              "<style scoped>\n",
              "    .dataframe tbody tr th:only-of-type {\n",
              "        vertical-align: middle;\n",
              "    }\n",
              "\n",
              "    .dataframe tbody tr th {\n",
              "        vertical-align: top;\n",
              "    }\n",
              "\n",
              "    .dataframe thead th {\n",
              "        text-align: right;\n",
              "    }\n",
              "</style>\n",
              "<table border=\"1\" class=\"dataframe\">\n",
              "  <thead>\n",
              "    <tr style=\"text-align: right;\">\n",
              "      <th></th>\n",
              "      <th>sensitivity</th>\n",
              "      <th>specificity</th>\n",
              "    </tr>\n",
              "  </thead>\n",
              "  <tbody>\n",
              "    <tr>\n",
              "      <th>0</th>\n",
              "      <td>1.000000</td>\n",
              "      <td>1.000000</td>\n",
              "    </tr>\n",
              "  </tbody>\n",
              "</table>\n",
              "</div>\n",
              "      <button class=\"colab-df-convert\" onclick=\"convertToInteractive('df-9c347ea2-959d-44ea-a064-c3b1e834b7ae')\"\n",
              "              title=\"Convert this dataframe to an interactive table.\"\n",
              "              style=\"display:none;\">\n",
              "        \n",
              "  <svg xmlns=\"http://www.w3.org/2000/svg\" height=\"24px\"viewBox=\"0 0 24 24\"\n",
              "       width=\"24px\">\n",
              "    <path d=\"M0 0h24v24H0V0z\" fill=\"none\"/>\n",
              "    <path d=\"M18.56 5.44l.94 2.06.94-2.06 2.06-.94-2.06-.94-.94-2.06-.94 2.06-2.06.94zm-11 1L8.5 8.5l.94-2.06 2.06-.94-2.06-.94L8.5 2.5l-.94 2.06-2.06.94zm10 10l.94 2.06.94-2.06 2.06-.94-2.06-.94-.94-2.06-.94 2.06-2.06.94z\"/><path d=\"M17.41 7.96l-1.37-1.37c-.4-.4-.92-.59-1.43-.59-.52 0-1.04.2-1.43.59L10.3 9.45l-7.72 7.72c-.78.78-.78 2.05 0 2.83L4 21.41c.39.39.9.59 1.41.59.51 0 1.02-.2 1.41-.59l7.78-7.78 2.81-2.81c.8-.78.8-2.07 0-2.86zM5.41 20L4 18.59l7.72-7.72 1.47 1.35L5.41 20z\"/>\n",
              "  </svg>\n",
              "      </button>\n",
              "      \n",
              "  <style>\n",
              "    .colab-df-container {\n",
              "      display:flex;\n",
              "      flex-wrap:wrap;\n",
              "      gap: 12px;\n",
              "    }\n",
              "\n",
              "    .colab-df-convert {\n",
              "      background-color: #E8F0FE;\n",
              "      border: none;\n",
              "      border-radius: 50%;\n",
              "      cursor: pointer;\n",
              "      display: none;\n",
              "      fill: #1967D2;\n",
              "      height: 32px;\n",
              "      padding: 0 0 0 0;\n",
              "      width: 32px;\n",
              "    }\n",
              "\n",
              "    .colab-df-convert:hover {\n",
              "      background-color: #E2EBFA;\n",
              "      box-shadow: 0px 1px 2px rgba(60, 64, 67, 0.3), 0px 1px 3px 1px rgba(60, 64, 67, 0.15);\n",
              "      fill: #174EA6;\n",
              "    }\n",
              "\n",
              "    [theme=dark] .colab-df-convert {\n",
              "      background-color: #3B4455;\n",
              "      fill: #D2E3FC;\n",
              "    }\n",
              "\n",
              "    [theme=dark] .colab-df-convert:hover {\n",
              "      background-color: #434B5C;\n",
              "      box-shadow: 0px 1px 3px 1px rgba(0, 0, 0, 0.15);\n",
              "      filter: drop-shadow(0px 1px 2px rgba(0, 0, 0, 0.3));\n",
              "      fill: #FFFFFF;\n",
              "    }\n",
              "  </style>\n",
              "\n",
              "      <script>\n",
              "        const buttonEl =\n",
              "          document.querySelector('#df-9c347ea2-959d-44ea-a064-c3b1e834b7ae button.colab-df-convert');\n",
              "        buttonEl.style.display =\n",
              "          google.colab.kernel.accessAllowed ? 'block' : 'none';\n",
              "\n",
              "        async function convertToInteractive(key) {\n",
              "          const element = document.querySelector('#df-9c347ea2-959d-44ea-a064-c3b1e834b7ae');\n",
              "          const dataTable =\n",
              "            await google.colab.kernel.invokeFunction('convertToInteractive',\n",
              "                                                     [key], {});\n",
              "          if (!dataTable) return;\n",
              "\n",
              "          const docLinkHtml = 'Like what you see? Visit the ' +\n",
              "            '<a target=\"_blank\" href=https://colab.research.google.com/notebooks/data_table.ipynb>data table notebook</a>'\n",
              "            + ' to learn more about interactive tables.';\n",
              "          element.innerHTML = '';\n",
              "          dataTable['output_type'] = 'display_data';\n",
              "          await google.colab.output.renderOutput(dataTable, element);\n",
              "          const docLink = document.createElement('div');\n",
              "          docLink.innerHTML = docLinkHtml;\n",
              "          element.appendChild(docLink);\n",
              "        }\n",
              "      </script>\n",
              "    </div>\n",
              "  </div>\n",
              "  "
            ]
          },
          "metadata": {},
          "execution_count": 31
        }
      ]
    },
    {
      "cell_type": "markdown",
      "source": [
        "<h3>Navie Bayes</h3>"
      ],
      "metadata": {
        "id": "N1sLCF6Fd1ec"
      }
    },
    {
      "cell_type": "code",
      "source": [
        "best_classifier_NB = None\n",
        "best_accu_NB = 0\n",
        "best_x_test_NB = None\n",
        "best_y_test_NB = None\n",
        "\n",
        "for batch in kcv_list:\n",
        "  x_train = batch[0]\n",
        "  y_train = batch[1]\n",
        "  x_test = batch[2]\n",
        "  y_test = batch[3]\n",
        "\n",
        "  # define parameter grid\n",
        "  param_grid_nb = {\n",
        "    'var_smoothing': np.logspace(0,-9, num=100)\n",
        "  }\n",
        "\n",
        "  # define and train the model\n",
        "  grid_search = GridSearchCV(estimator=GaussianNB(), param_grid=param_grid_nb, verbose=1, n_jobs=-1)\n",
        "  grid_search.fit(x_train, y_train)\n",
        "\n",
        "  # get best estimator\n",
        "  best = grid_search.best_estimator_\n",
        "\n",
        "  # predict\n",
        "  y_pred = best.predict(x_test)\n",
        "\n",
        "\n",
        "  # calculate accuracy\n",
        "  acc = round(accuracy_score(y_test, y_pred), 3)\n",
        "\n",
        "  # update best classifier\n",
        "  if acc > best_accu_NB:\n",
        "    best_accu_NB = acc\n",
        "    best_classifier_NB = best\n",
        "    best_x_test_NB = x_test\n",
        "    best_y_test_NB = y_test"
      ],
      "metadata": {
        "id": "kFsAyembd0tt"
      },
      "execution_count": null,
      "outputs": []
    },
    {
      "cell_type": "markdown",
      "source": [
        "<h3>Evaluate the model</h3>"
      ],
      "metadata": {
        "id": "CsZIb80yfwcS"
      }
    },
    {
      "cell_type": "code",
      "source": [
        "print(\"Navie Bayes best classifier accuracy is {}\".format(best_accu_NB))"
      ],
      "metadata": {
        "colab": {
          "base_uri": "https://localhost:8080/"
        },
        "id": "Ol62VreSfv2r",
        "outputId": "8285a5b4-ea34-4110-ee5f-9c125216a0cd"
      },
      "execution_count": null,
      "outputs": [
        {
          "output_type": "stream",
          "name": "stdout",
          "text": [
            "Navie Bayes best classifier accuracy is 1.0\n"
          ]
        }
      ]
    },
    {
      "cell_type": "code",
      "source": [
        "# confusion matrix\n",
        "y_pred = best_classifier_NB.predict(best_x_test_NB)\n",
        "plot_confusion_matrix(best_classifier_NB, best_x_test_NB, best_y_test_NB)\n",
        "plt.show()\n",
        "\n",
        "tp, fn, fp, tn = confusion_matrix(best_y_test_NB, y_pred).ravel()\n",
        "eval_Df = {\"sensitivity\": tp/(tp+fn), \"specificity\": tn/(tn+fp)}\n",
        "pd.DataFrame(data=eval_Df, index=[0])"
      ],
      "metadata": {
        "colab": {
          "base_uri": "https://localhost:8080/",
          "height": 402
        },
        "id": "DQK2jeyUf4ET",
        "outputId": "939d2a47-e81b-41a8-ce86-51e51f24e2e5"
      },
      "execution_count": null,
      "outputs": [
        {
          "output_type": "stream",
          "name": "stderr",
          "text": [
            "/usr/local/lib/python3.8/dist-packages/sklearn/utils/deprecation.py:87: FutureWarning: Function plot_confusion_matrix is deprecated; Function `plot_confusion_matrix` is deprecated in 1.0 and will be removed in 1.2. Use one of the class methods: ConfusionMatrixDisplay.from_predictions or ConfusionMatrixDisplay.from_estimator.\n",
            "  warnings.warn(msg, category=FutureWarning)\n"
          ]
        },
        {
          "output_type": "display_data",
          "data": {
            "text/plain": [
              "<Figure size 432x288 with 2 Axes>"
            ],
            "image/png": "[encoded data removed]"
          },
          "metadata": {
            "needs_background": "light"
          }
        },
        {
          "output_type": "execute_result",
          "data": {
            "text/plain": [
              "   sensitivity  specificity\n",
              "0     1.000000     1.000000"
            ],
            "text/html": [
              "\n",
              "  <div id=\"df-e50fd25c-ffd6-425c-9589-f29f0b225c2a\">\n",
              "    <div class=\"colab-df-container\">\n",
              "      <div>\n",
              "<style scoped>\n",
              "    .dataframe tbody tr th:only-of-type {\n",
              "        vertical-align: middle;\n",
              "    }\n",
              "\n",
              "    .dataframe tbody tr th {\n",
              "        vertical-align: top;\n",
              "    }\n",
              "\n",
              "    .dataframe thead th {\n",
              "        text-align: right;\n",
              "    }\n",
              "</style>\n",
              "<table border=\"1\" class=\"dataframe\">\n",
              "  <thead>\n",
              "    <tr style=\"text-align: right;\">\n",
              "      <th></th>\n",
              "      <th>sensitivity</th>\n",
              "      <th>specificity</th>\n",
              "    </tr>\n",
              "  </thead>\n",
              "  <tbody>\n",
              "    <tr>\n",
              "      <th>0</th>\n",
              "      <td>1.000000</td>\n",
              "      <td>1.000000</td>\n",
              "    </tr>\n",
              "  </tbody>\n",
              "</table>\n",
              "</div>\n",
              "      <button class=\"colab-df-convert\" onclick=\"convertToInteractive('df-e50fd25c-ffd6-425c-9589-f29f0b225c2a')\"\n",
              "              title=\"Convert this dataframe to an interactive table.\"\n",
              "              style=\"display:none;\">\n",
              "        \n",
              "  <svg xmlns=\"http://www.w3.org/2000/svg\" height=\"24px\"viewBox=\"0 0 24 24\"\n",
              "       width=\"24px\">\n",
              "    <path d=\"M0 0h24v24H0V0z\" fill=\"none\"/>\n",
              "    <path d=\"M18.56 5.44l.94 2.06.94-2.06 2.06-.94-2.06-.94-.94-2.06-.94 2.06-2.06.94zm-11 1L8.5 8.5l.94-2.06 2.06-.94-2.06-.94L8.5 2.5l-.94 2.06-2.06.94zm10 10l.94 2.06.94-2.06 2.06-.94-2.06-.94-.94-2.06-.94 2.06-2.06.94z\"/><path d=\"M17.41 7.96l-1.37-1.37c-.4-.4-.92-.59-1.43-.59-.52 0-1.04.2-1.43.59L10.3 9.45l-7.72 7.72c-.78.78-.78 2.05 0 2.83L4 21.41c.39.39.9.59 1.41.59.51 0 1.02-.2 1.41-.59l7.78-7.78 2.81-2.81c.8-.78.8-2.07 0-2.86zM5.41 20L4 18.59l7.72-7.72 1.47 1.35L5.41 20z\"/>\n",
              "  </svg>\n",
              "      </button>\n",
              "      \n",
              "  <style>\n",
              "    .colab-df-container {\n",
              "      display:flex;\n",
              "      flex-wrap:wrap;\n",
              "      gap: 12px;\n",
              "    }\n",
              "\n",
              "    .colab-df-convert {\n",
              "      background-color: #E8F0FE;\n",
              "      border: none;\n",
              "      border-radius: 50%;\n",
              "      cursor: pointer;\n",
              "      display: none;\n",
              "      fill: #1967D2;\n",
              "      height: 32px;\n",
              "      padding: 0 0 0 0;\n",
              "      width: 32px;\n",
              "    }\n",
              "\n",
              "    .colab-df-convert:hover {\n",
              "      background-color: #E2EBFA;\n",
              "      box-shadow: 0px 1px 2px rgba(60, 64, 67, 0.3), 0px 1px 3px 1px rgba(60, 64, 67, 0.15);\n",
              "      fill: #174EA6;\n",
              "    }\n",
              "\n",
              "    [theme=dark] .colab-df-convert {\n",
              "      background-color: #3B4455;\n",
              "      fill: #D2E3FC;\n",
              "    }\n",
              "\n",
              "    [theme=dark] .colab-df-convert:hover {\n",
              "      background-color: #434B5C;\n",
              "      box-shadow: 0px 1px 3px 1px rgba(0, 0, 0, 0.15);\n",
              "      filter: drop-shadow(0px 1px 2px rgba(0, 0, 0, 0.3));\n",
              "      fill: #FFFFFF;\n",
              "    }\n",
              "  </style>\n",
              "\n",
              "      <script>\n",
              "        const buttonEl =\n",
              "          document.querySelector('#df-e50fd25c-ffd6-425c-9589-f29f0b225c2a button.colab-df-convert');\n",
              "        buttonEl.style.display =\n",
              "          google.colab.kernel.accessAllowed ? 'block' : 'none';\n",
              "\n",
              "        async function convertToInteractive(key) {\n",
              "          const element = document.querySelector('#df-e50fd25c-ffd6-425c-9589-f29f0b225c2a');\n",
              "          const dataTable =\n",
              "            await google.colab.kernel.invokeFunction('convertToInteractive',\n",
              "                                                     [key], {});\n",
              "          if (!dataTable) return;\n",
              "\n",
              "          const docLinkHtml = 'Like what you see? Visit the ' +\n",
              "            '<a target=\"_blank\" href=https://colab.research.google.com/notebooks/data_table.ipynb>data table notebook</a>'\n",
              "            + ' to learn more about interactive tables.';\n",
              "          element.innerHTML = '';\n",
              "          dataTable['output_type'] = 'display_data';\n",
              "          await google.colab.output.renderOutput(dataTable, element);\n",
              "          const docLink = document.createElement('div');\n",
              "          docLink.innerHTML = docLinkHtml;\n",
              "          element.appendChild(docLink);\n",
              "        }\n",
              "      </script>\n",
              "    </div>\n",
              "  </div>\n",
              "  "
            ]
          },
          "metadata": {},
          "execution_count": 34
        }
      ]
    },
    {
      "cell_type": "markdown",
      "source": [
        "<h3>Summery</h3>\n",
        "Overall it seems that most of the classifiers managed to learn well from<br>\n",
        "our representaion of the data and achived the highest accuracy, "
      ],
      "metadata": {
        "id": "hop-3Lq8gBoG"
      }
    },
    {
      "cell_type": "code",
      "source": [
        "# saving the best classifiers of all the 4 models\n",
        "joblib.dump(best_classifier_knn, '../../TrainedClassificationModels/KNN_classifier.pkl')\n",
        "joblib.dump(best_classifier_SVM, '../../TrainedClassificationModels/SVM_classifier.pkl')\n",
        "joblib.dump(best_classifier_RF, '../../TrainedClassificationModels/RF_classifier.pkl')\n",
        "joblib.dump(best_classifier_NB, '../../TrainedClassificationModels/NB_classifier.pkl')"
      ],
      "metadata": {
        "colab": {
          "base_uri": "https://localhost:8080/"
        },
        "id": "_a87KJjvg7ZI",
        "outputId": "e56b7ea9-2966-4bbb-da16-8ae2757bdd91"
      },
      "execution_count": null,
      "outputs": [
        {
          "output_type": "execute_result",
          "data": {
            "text/plain": [
              "['/content/drive/MyDrive/Colab Notebooks/NB_classifier.pkl']"
            ]
          },
          "metadata": {},
          "execution_count": 37
        }
      ]
    }
  ]
}