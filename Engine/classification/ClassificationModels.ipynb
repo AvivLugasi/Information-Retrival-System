{
 "nbformat": 4,
 "nbformat_minor": 0,
 "metadata": {
  "colab": {
   "provenance": []
  },
  "kernelspec": {
   "name": "python3",
   "display_name": "Python 3"
  },
  "language_info": {
   "name": "python"
  }
 },
 "cells": [
  {
   "cell_type": "markdown",
   "source": [
    "<h2>Import Libs</h2>"
   ],
   "metadata": {
    "id": "EVcmuejZq1y-"
   }
  },
  {
   "cell_type": "code",
   "execution_count": 1,
   "metadata": {
    "id": "pN4kzB1TqVie"
   },
   "outputs": [],
   "source": [
    "# working with the data and vizualization tools\n",
    "import pandas as pd\n",
    "import numpy as np\n",
    "import matplotlib.pyplot as plt\n",
    "import seaborn as sns\n",
    "\n",
    "# pre- processing\n",
    "from sklearn.preprocessing import StandardScaler\n",
    "\n",
    "# K-cross validation\n",
    "from sklearn.model_selection import train_test_split, KFold, GridSearchCV\n",
    "\n",
    "# classification models\n",
    "from sklearn.ensemble import RandomForestClassifier\n",
    "from sklearn.naive_bayes import GaussianNB\n",
    "from sklearn.neighbors import KNeighborsClassifier\n",
    "from sklearn import svm\n",
    "\n",
    "# Dimensionality Reduction\n",
    "from sklearn.decomposition import PCA\n",
    "from sklearn.manifold import TSNE\n",
    "\n",
    "# model evaluation\n",
    "from sklearn.metrics import plot_confusion_matrix, confusion_matrix\n",
    "from sklearn.metrics import accuracy_score\n",
    "\n",
    "# seed\n",
    "RSEED = 10\n",
    "\n",
    "#saving models as plk files\n",
    "from joblib import Parallel, delayed\n",
    "import joblib"
   ]
  },
  {
   "cell_type": "markdown",
   "source": [
    "Printing configuration"
   ],
   "metadata": {
    "id": "6zHDrl3CsF7O"
   }
  },
  {
   "cell_type": "code",
   "source": [
    "#print float number with 6 digit after the decimal point\n",
    "pd.set_option('display.float_format', lambda x: '%.6f' % x)"
   ],
   "metadata": {
    "id": "RoNYML3bsKqG"
   },
   "execution_count": 2,
   "outputs": []
  },
  {
   "cell_type": "code",
   "source": [
    "# helper functions\n",
    "\n",
    "def k_cross_validation(x_features, y_label, k):\n",
    "  \"\"\"\n",
    "  create 10 varsions of the train-test data with ratio of 90:10\n",
    "  \"\"\"\n",
    "  # Split the dataset into 10 folds\n",
    "  kf = KFold(n_splits=k, shuffle=True)\n",
    "  # k-cross validation splits list\n",
    "  kcv_list = []\n",
    "\n",
    "  # Iterate through the folds\n",
    "  for train_index, test_index in kf.split(x_features):\n",
    "      # Split the train and test sets\n",
    "      print(train_index)\n",
    "      X_train, X_test = x_features.iloc[train_index,:], x_features.iloc[test_index,:]\n",
    "      y_train, y_test = y_label.iloc[train_index], y_label.iloc[test_index]\n",
    "      batch = [X_train, y_train, X_test, y_test]\n",
    "      kcv_list.append(batch)\n",
    "  return kcv_list"
   ],
   "metadata": {
    "id": "AIaR7rl55ytY"
   },
   "execution_count": 3,
   "outputs": []
  },
  {
   "cell_type": "markdown",
   "source": [
    "<h2>Data pre-processing and visualization</h2>"
   ],
   "metadata": {
    "id": "HWbXAIQ7sywi"
   }
  },
  {
   "cell_type": "code",
   "source": [
    "docs_df = pd.read_csv(\"../../ClassificationModelsDatasets/Concatenated-DF.csv\")"
   ],
   "metadata": {
    "id": "EajRm6SZs420"
   },
   "execution_count": 15,
   "outputs": []
  },
  {
   "cell_type": "code",
   "source": [
    "docs_df"
   ],
   "metadata": {
    "colab": {
     "base_uri": "https://localhost:8080/",
     "height": 505
    },
    "id": "xJZ0BDkItSJM",
    "outputId": "420112b1-1a0e-411e-810c-90f357ac456f"
   },
   "execution_count": 16,
   "outputs": [
    {
     "output_type": "execute_result",
     "data": {
      "text/plain": [
       "    Unnamed: 0  bibliometr  analysi  explain  artifici  intellig    field  \\\n",
       "0            0    0.000000 0.000000 0.242432  0.000000  0.000000 0.000000   \n",
       "1            1    0.000000 0.126682 0.000000  0.000000  0.000000 0.349517   \n",
       "2            2    0.000000 0.126682 0.597589  0.264099  0.605286 0.553972   \n",
       "3            3    0.000000 0.000000 0.152958  0.000000  0.000000 0.000000   \n",
       "4            4    0.000000 0.000000 0.000000  0.000000  0.215607 0.000000   \n",
       "..         ...         ...      ...      ...       ...       ...      ...   \n",
       "95          95    0.000000 0.000000 0.152958  0.000000  0.215607 0.000000   \n",
       "96          96    0.000000 0.159855 0.484865  0.418587  0.500624 0.699034   \n",
       "97          97    1.957005 0.000000 0.000000  0.000000  0.215607 0.553972   \n",
       "98          98    0.000000 0.000000 0.429407  0.264099  0.341729 0.000000   \n",
       "99          99    0.000000 0.126682 0.597589  0.264099  0.557337 0.349517   \n",
       "\n",
       "       jose   alonso     ciro  ...    4â€“8  dittrich  geppert  448â€“461  \\\n",
       "0  0.000000 0.000000 0.000000  ... 0.000000  0.000000 0.000000   0.000000   \n",
       "1  0.000000 0.000000 0.000000  ... 0.000000  0.000000 0.000000   0.000000   \n",
       "2  0.000000 0.000000 0.000000  ... 0.000000  0.000000 0.000000   0.000000   \n",
       "3  0.000000 0.000000 0.000000  ... 0.000000  0.000000 0.000000   0.000000   \n",
       "4  0.000000 0.000000 0.000000  ... 0.000000  0.000000 0.000000   0.000000   \n",
       "..      ...      ...      ...  ...      ...       ...      ...        ...   \n",
       "95 0.000000 0.000000 0.000000  ... 0.000000  0.000000 0.000000   0.000000   \n",
       "96 0.000000 0.000000 0.000000  ... 0.000000  0.000000 0.000000   0.000000   \n",
       "97 0.000000 0.000000 0.000000  ... 0.000000  0.000000 0.000000   0.000000   \n",
       "98 0.000000 0.000000 0.000000  ... 0.000000  0.000000 0.000000   0.000000   \n",
       "99 0.000000 0.000000 0.000000  ... 0.000000  0.000000 0.000000   0.000000   \n",
       "\n",
       "       sluy   remesh   asolid  447â€“467  08468stat  Y-LABEL  \n",
       "0  0.000000 0.000000 0.000000   0.000000   0.000000        0  \n",
       "1  0.000000 0.000000 0.000000   0.000000   0.000000        0  \n",
       "2  0.000000 0.000000 0.000000   0.000000   0.000000        1  \n",
       "3  0.000000 0.000000 0.000000   0.000000   0.000000        0  \n",
       "4  0.000000 0.000000 0.000000   0.000000   0.000000        0  \n",
       "..      ...      ...      ...        ...        ...      ...  \n",
       "95 0.000000 0.000000 0.000000   0.000000   0.000000        0  \n",
       "96 0.000000 0.000000 0.000000   0.000000   0.000000        1  \n",
       "97 0.000000 0.000000 0.000000   0.000000   0.000000        0  \n",
       "98 0.000000 0.000000 0.000000   0.000000   0.000000        1  \n",
       "99 0.000000 0.000000 0.000000   0.000000   0.000000        1  \n",
       "\n",
       "[100 rows x 48364 columns]"
      ],
      "text/html": [
       "\n",
       "  <div id=\"df-dbd87f4f-0f27-41fa-8a17-89aa28b44d2d\">\n",
       "    <div class=\"colab-df-container\">\n",
       "      <div>\n",
       "<style scoped>\n",
       "    .dataframe tbody tr th:only-of-type {\n",
       "        vertical-align: middle;\n",
       "    }\n",
       "\n",
       "    .dataframe tbody tr th {\n",
       "        vertical-align: top;\n",
       "    }\n",
       "\n",
       "    .dataframe thead th {\n",
       "        text-align: right;\n",
       "    }\n",
       "</style>\n",
       "<table border=\"1\" class=\"dataframe\">\n",
       "  <thead>\n",
       "    <tr style=\"text-align: right;\">\n",
       "      <th></th>\n",
       "      <th>Unnamed: 0</th>\n",
       "      <th>bibliometr</th>\n",
       "      <th>analysi</th>\n",
       "      <th>explain</th>\n",
       "      <th>artifici</th>\n",
       "      <th>intellig</th>\n",
       "      <th>field</th>\n",
       "      <th>jose</th>\n",
       "      <th>alonso</th>\n",
       "      <th>ciro</th>\n",
       "      <th>...</th>\n",
       "      <th>4â€“8</th>\n",
       "      <th>dittrich</th>\n",
       "      <th>geppert</th>\n",
       "      <th>448â€“461</th>\n",
       "      <th>sluy</th>\n",
       "      <th>remesh</th>\n",
       "      <th>asolid</th>\n",
       "      <th>447â€“467</th>\n",
       "      <th>08468stat</th>\n",
       "      <th>Y-LABEL</th>\n",
       "    </tr>\n",
       "  </thead>\n",
       "  <tbody>\n",
       "    <tr>\n",
       "      <th>0</th>\n",
       "      <td>0</td>\n",
       "      <td>0.000000</td>\n",
       "      <td>0.000000</td>\n",
       "      <td>0.242432</td>\n",
       "      <td>0.000000</td>\n",
       "      <td>0.000000</td>\n",
       "      <td>0.000000</td>\n",
       "      <td>0.000000</td>\n",
       "      <td>0.000000</td>\n",
       "      <td>0.000000</td>\n",
       "      <td>...</td>\n",
       "      <td>0.000000</td>\n",
       "      <td>0.000000</td>\n",
       "      <td>0.000000</td>\n",
       "      <td>0.000000</td>\n",
       "      <td>0.000000</td>\n",
       "      <td>0.000000</td>\n",
       "      <td>0.000000</td>\n",
       "      <td>0.000000</td>\n",
       "      <td>0.000000</td>\n",
       "      <td>0</td>\n",
       "    </tr>\n",
       "    <tr>\n",
       "      <th>1</th>\n",
       "      <td>1</td>\n",
       "      <td>0.000000</td>\n",
       "      <td>0.126682</td>\n",
       "      <td>0.000000</td>\n",
       "      <td>0.000000</td>\n",
       "      <td>0.000000</td>\n",
       "      <td>0.349517</td>\n",
       "      <td>0.000000</td>\n",
       "      <td>0.000000</td>\n",
       "      <td>0.000000</td>\n",
       "      <td>...</td>\n",
       "      <td>0.000000</td>\n",
       "      <td>0.000000</td>\n",
       "      <td>0.000000</td>\n",
       "      <td>0.000000</td>\n",
       "      <td>0.000000</td>\n",
       "      <td>0.000000</td>\n",
       "      <td>0.000000</td>\n",
       "      <td>0.000000</td>\n",
       "      <td>0.000000</td>\n",
       "      <td>0</td>\n",
       "    </tr>\n",
       "    <tr>\n",
       "      <th>2</th>\n",
       "      <td>2</td>\n",
       "      <td>0.000000</td>\n",
       "      <td>0.126682</td>\n",
       "      <td>0.597589</td>\n",
       "      <td>0.264099</td>\n",
       "      <td>0.605286</td>\n",
       "      <td>0.553972</td>\n",
       "      <td>0.000000</td>\n",
       "      <td>0.000000</td>\n",
       "      <td>0.000000</td>\n",
       "      <td>...</td>\n",
       "      <td>0.000000</td>\n",
       "      <td>0.000000</td>\n",
       "      <td>0.000000</td>\n",
       "      <td>0.000000</td>\n",
       "      <td>0.000000</td>\n",
       "      <td>0.000000</td>\n",
       "      <td>0.000000</td>\n",
       "      <td>0.000000</td>\n",
       "      <td>0.000000</td>\n",
       "      <td>1</td>\n",
       "    </tr>\n",
       "    <tr>\n",
       "      <th>3</th>\n",
       "      <td>3</td>\n",
       "      <td>0.000000</td>\n",
       "      <td>0.000000</td>\n",
       "      <td>0.152958</td>\n",
       "      <td>0.000000</td>\n",
       "      <td>0.000000</td>\n",
       "      <td>0.000000</td>\n",
       "      <td>0.000000</td>\n",
       "      <td>0.000000</td>\n",
       "      <td>0.000000</td>\n",
       "      <td>...</td>\n",
       "      <td>0.000000</td>\n",
       "      <td>0.000000</td>\n",
       "      <td>0.000000</td>\n",
       "      <td>0.000000</td>\n",
       "      <td>0.000000</td>\n",
       "      <td>0.000000</td>\n",
       "      <td>0.000000</td>\n",
       "      <td>0.000000</td>\n",
       "      <td>0.000000</td>\n",
       "      <td>0</td>\n",
       "    </tr>\n",
       "    <tr>\n",
       "      <th>4</th>\n",
       "      <td>4</td>\n",
       "      <td>0.000000</td>\n",
       "      <td>0.000000</td>\n",
       "      <td>0.000000</td>\n",
       "      <td>0.000000</td>\n",
       "      <td>0.215607</td>\n",
       "      <td>0.000000</td>\n",
       "      <td>0.000000</td>\n",
       "      <td>0.000000</td>\n",
       "      <td>0.000000</td>\n",
       "      <td>...</td>\n",
       "      <td>0.000000</td>\n",
       "      <td>0.000000</td>\n",
       "      <td>0.000000</td>\n",
       "      <td>0.000000</td>\n",
       "      <td>0.000000</td>\n",
       "      <td>0.000000</td>\n",
       "      <td>0.000000</td>\n",
       "      <td>0.000000</td>\n",
       "      <td>0.000000</td>\n",
       "      <td>0</td>\n",
       "    </tr>\n",
       "    <tr>\n",
       "      <th>...</th>\n",
       "      <td>...</td>\n",
       "      <td>...</td>\n",
       "      <td>...</td>\n",
       "      <td>...</td>\n",
       "      <td>...</td>\n",
       "      <td>...</td>\n",
       "      <td>...</td>\n",
       "      <td>...</td>\n",
       "      <td>...</td>\n",
       "      <td>...</td>\n",
       "      <td>...</td>\n",
       "      <td>...</td>\n",
       "      <td>...</td>\n",
       "      <td>...</td>\n",
       "      <td>...</td>\n",
       "      <td>...</td>\n",
       "      <td>...</td>\n",
       "      <td>...</td>\n",
       "      <td>...</td>\n",
       "      <td>...</td>\n",
       "      <td>...</td>\n",
       "    </tr>\n",
       "    <tr>\n",
       "      <th>95</th>\n",
       "      <td>95</td>\n",
       "      <td>0.000000</td>\n",
       "      <td>0.000000</td>\n",
       "      <td>0.152958</td>\n",
       "      <td>0.000000</td>\n",
       "      <td>0.215607</td>\n",
       "      <td>0.000000</td>\n",
       "      <td>0.000000</td>\n",
       "      <td>0.000000</td>\n",
       "      <td>0.000000</td>\n",
       "      <td>...</td>\n",
       "      <td>0.000000</td>\n",
       "      <td>0.000000</td>\n",
       "      <td>0.000000</td>\n",
       "      <td>0.000000</td>\n",
       "      <td>0.000000</td>\n",
       "      <td>0.000000</td>\n",
       "      <td>0.000000</td>\n",
       "      <td>0.000000</td>\n",
       "      <td>0.000000</td>\n",
       "      <td>0</td>\n",
       "    </tr>\n",
       "    <tr>\n",
       "      <th>96</th>\n",
       "      <td>96</td>\n",
       "      <td>0.000000</td>\n",
       "      <td>0.159855</td>\n",
       "      <td>0.484865</td>\n",
       "      <td>0.418587</td>\n",
       "      <td>0.500624</td>\n",
       "      <td>0.699034</td>\n",
       "      <td>0.000000</td>\n",
       "      <td>0.000000</td>\n",
       "      <td>0.000000</td>\n",
       "      <td>...</td>\n",
       "      <td>0.000000</td>\n",
       "      <td>0.000000</td>\n",
       "      <td>0.000000</td>\n",
       "      <td>0.000000</td>\n",
       "      <td>0.000000</td>\n",
       "      <td>0.000000</td>\n",
       "      <td>0.000000</td>\n",
       "      <td>0.000000</td>\n",
       "      <td>0.000000</td>\n",
       "      <td>1</td>\n",
       "    </tr>\n",
       "    <tr>\n",
       "      <th>97</th>\n",
       "      <td>97</td>\n",
       "      <td>1.957005</td>\n",
       "      <td>0.000000</td>\n",
       "      <td>0.000000</td>\n",
       "      <td>0.000000</td>\n",
       "      <td>0.215607</td>\n",
       "      <td>0.553972</td>\n",
       "      <td>0.000000</td>\n",
       "      <td>0.000000</td>\n",
       "      <td>0.000000</td>\n",
       "      <td>...</td>\n",
       "      <td>0.000000</td>\n",
       "      <td>0.000000</td>\n",
       "      <td>0.000000</td>\n",
       "      <td>0.000000</td>\n",
       "      <td>0.000000</td>\n",
       "      <td>0.000000</td>\n",
       "      <td>0.000000</td>\n",
       "      <td>0.000000</td>\n",
       "      <td>0.000000</td>\n",
       "      <td>0</td>\n",
       "    </tr>\n",
       "    <tr>\n",
       "      <th>98</th>\n",
       "      <td>98</td>\n",
       "      <td>0.000000</td>\n",
       "      <td>0.000000</td>\n",
       "      <td>0.429407</td>\n",
       "      <td>0.264099</td>\n",
       "      <td>0.341729</td>\n",
       "      <td>0.000000</td>\n",
       "      <td>0.000000</td>\n",
       "      <td>0.000000</td>\n",
       "      <td>0.000000</td>\n",
       "      <td>...</td>\n",
       "      <td>0.000000</td>\n",
       "      <td>0.000000</td>\n",
       "      <td>0.000000</td>\n",
       "      <td>0.000000</td>\n",
       "      <td>0.000000</td>\n",
       "      <td>0.000000</td>\n",
       "      <td>0.000000</td>\n",
       "      <td>0.000000</td>\n",
       "      <td>0.000000</td>\n",
       "      <td>1</td>\n",
       "    </tr>\n",
       "    <tr>\n",
       "      <th>99</th>\n",
       "      <td>99</td>\n",
       "      <td>0.000000</td>\n",
       "      <td>0.126682</td>\n",
       "      <td>0.597589</td>\n",
       "      <td>0.264099</td>\n",
       "      <td>0.557337</td>\n",
       "      <td>0.349517</td>\n",
       "      <td>0.000000</td>\n",
       "      <td>0.000000</td>\n",
       "      <td>0.000000</td>\n",
       "      <td>...</td>\n",
       "      <td>0.000000</td>\n",
       "      <td>0.000000</td>\n",
       "      <td>0.000000</td>\n",
       "      <td>0.000000</td>\n",
       "      <td>0.000000</td>\n",
       "      <td>0.000000</td>\n",
       "      <td>0.000000</td>\n",
       "      <td>0.000000</td>\n",
       "      <td>0.000000</td>\n",
       "      <td>1</td>\n",
       "    </tr>\n",
       "  </tbody>\n",
       "</table>\n",
       "<p>100 rows × 48364 columns</p>\n",
       "</div>\n",
       "      <button class=\"colab-df-convert\" onclick=\"convertToInteractive('df-dbd87f4f-0f27-41fa-8a17-89aa28b44d2d')\"\n",
       "              title=\"Convert this dataframe to an interactive table.\"\n",
       "              style=\"display:none;\">\n",
       "        \n",
       "  <svg xmlns=\"http://www.w3.org/2000/svg\" height=\"24px\"viewBox=\"0 0 24 24\"\n",
       "       width=\"24px\">\n",
       "    <path d=\"M0 0h24v24H0V0z\" fill=\"none\"/>\n",
       "    <path d=\"M18.56 5.44l.94 2.06.94-2.06 2.06-.94-2.06-.94-.94-2.06-.94 2.06-2.06.94zm-11 1L8.5 8.5l.94-2.06 2.06-.94-2.06-.94L8.5 2.5l-.94 2.06-2.06.94zm10 10l.94 2.06.94-2.06 2.06-.94-2.06-.94-.94-2.06-.94 2.06-2.06.94z\"/><path d=\"M17.41 7.96l-1.37-1.37c-.4-.4-.92-.59-1.43-.59-.52 0-1.04.2-1.43.59L10.3 9.45l-7.72 7.72c-.78.78-.78 2.05 0 2.83L4 21.41c.39.39.9.59 1.41.59.51 0 1.02-.2 1.41-.59l7.78-7.78 2.81-2.81c.8-.78.8-2.07 0-2.86zM5.41 20L4 18.59l7.72-7.72 1.47 1.35L5.41 20z\"/>\n",
       "  </svg>\n",
       "      </button>\n",
       "      \n",
       "  <style>\n",
       "    .colab-df-container {\n",
       "      display:flex;\n",
       "      flex-wrap:wrap;\n",
       "      gap: 12px;\n",
       "    }\n",
       "\n",
       "    .colab-df-convert {\n",
       "      background-color: #E8F0FE;\n",
       "      border: none;\n",
       "      border-radius: 50%;\n",
       "      cursor: pointer;\n",
       "      display: none;\n",
       "      fill: #1967D2;\n",
       "      height: 32px;\n",
       "      padding: 0 0 0 0;\n",
       "      width: 32px;\n",
       "    }\n",
       "\n",
       "    .colab-df-convert:hover {\n",
       "      background-color: #E2EBFA;\n",
       "      box-shadow: 0px 1px 2px rgba(60, 64, 67, 0.3), 0px 1px 3px 1px rgba(60, 64, 67, 0.15);\n",
       "      fill: #174EA6;\n",
       "    }\n",
       "\n",
       "    [theme=dark] .colab-df-convert {\n",
       "      background-color: #3B4455;\n",
       "      fill: #D2E3FC;\n",
       "    }\n",
       "\n",
       "    [theme=dark] .colab-df-convert:hover {\n",
       "      background-color: #434B5C;\n",
       "      box-shadow: 0px 1px 3px 1px rgba(0, 0, 0, 0.15);\n",
       "      filter: drop-shadow(0px 1px 2px rgba(0, 0, 0, 0.3));\n",
       "      fill: #FFFFFF;\n",
       "    }\n",
       "  </style>\n",
       "\n",
       "      <script>\n",
       "        const buttonEl =\n",
       "          document.querySelector('#df-dbd87f4f-0f27-41fa-8a17-89aa28b44d2d button.colab-df-convert');\n",
       "        buttonEl.style.display =\n",
       "          google.colab.kernel.accessAllowed ? 'block' : 'none';\n",
       "\n",
       "        async function convertToInteractive(key) {\n",
       "          const element = document.querySelector('#df-dbd87f4f-0f27-41fa-8a17-89aa28b44d2d');\n",
       "          const dataTable =\n",
       "            await google.colab.kernel.invokeFunction('convertToInteractive',\n",
       "                                                     [key], {});\n",
       "          if (!dataTable) return;\n",
       "\n",
       "          const docLinkHtml = 'Like what you see? Visit the ' +\n",
       "            '<a target=\"_blank\" href=https://colab.research.google.com/notebooks/data_table.ipynb>data table notebook</a>'\n",
       "            + ' to learn more about interactive tables.';\n",
       "          element.innerHTML = '';\n",
       "          dataTable['output_type'] = 'display_data';\n",
       "          await google.colab.output.renderOutput(dataTable, element);\n",
       "          const docLink = document.createElement('div');\n",
       "          docLink.innerHTML = docLinkHtml;\n",
       "          element.appendChild(docLink);\n",
       "        }\n",
       "      </script>\n",
       "    </div>\n",
       "  </div>\n",
       "  "
      ]
     },
     "metadata": {},
     "execution_count": 16
    }
   ]
  },
  {
   "cell_type": "code",
   "source": [
    "# remove first col-(number of row(irrelevant))\n",
    "docs_df= docs_df.iloc[:,1:]"
   ],
   "metadata": {
    "id": "2Q5IQyN0tgoF"
   },
   "execution_count": 17,
   "outputs": []
  },
  {
   "cell_type": "code",
   "source": [
    "# normalazie the x-features\n",
    "scaler = StandardScaler()\n",
    "x_features = docs_df.iloc[:, 0:48362]\n",
    "x_features_scaled = scaler.fit_transform(x_features)\n",
    "\n",
    "# concanted with the y-label\n",
    "scaled_df = np.concatenate((x_features_scaled, docs_df.iloc[:,-1:]), axis=1)"
   ],
   "metadata": {
    "id": "750yoaJct8Fd"
   },
   "execution_count": 20,
   "outputs": []
  },
  {
   "cell_type": "markdown",
   "source": [
    "<h3>Dimensionality Reduction</h3>\n",
    "After we normalize our data, lets try to extract the relavant features from it by using PCA. It will also help us to visualize our data."
   ],
   "metadata": {
    "id": "CByHf9vXxSVY"
   }
  },
  {
   "cell_type": "code",
   "source": [
    "# lets choose the create 75 components\n",
    "components = 75\n",
    "\n",
    "pca = PCA(n_components = components)\n",
    "# perform PCA on the scaled data\n",
    "pca.fit(x_features_scaled)"
   ],
   "metadata": {
    "colab": {
     "base_uri": "https://localhost:8080/"
    },
    "id": "CUOSxMTWuENP",
    "outputId": "f29ac714-875d-4b53-b31c-9d1b77991a08"
   },
   "execution_count": 21,
   "outputs": [
    {
     "output_type": "execute_result",
     "data": {
      "text/plain": [
       "PCA(n_components=75)"
      ]
     },
     "metadata": {},
     "execution_count": 21
    }
   ]
  },
  {
   "cell_type": "code",
   "source": [
    "# print the explained variances\n",
    "print(\"Variances (Percentage):\")\n",
    "print(pca.explained_variance_ratio_ * 100)\n",
    "print()"
   ],
   "metadata": {
    "colab": {
     "base_uri": "https://localhost:8080/"
    },
    "id": "gL_0Cig1yKQs",
    "outputId": "70800ad2-b880-4429-a84b-343b2d88e0cb"
   },
   "execution_count": 22,
   "outputs": [
    {
     "output_type": "stream",
     "name": "stdout",
     "text": [
      "Variances (Percentage):\n",
      "[5.99423364 4.77462196 4.25078024 3.3782839  2.71463769 2.55466387\n",
      " 2.44338101 2.29663613 2.08278617 2.00475264 1.88854454 1.81231026\n",
      " 1.78653288 1.75326932 1.68624145 1.6154994  1.48201736 1.47124742\n",
      " 1.4532271  1.44560263 1.43576575 1.38184005 1.34936885 1.32366875\n",
      " 1.31730633 1.26760787 1.22150922 1.18330469 1.14255208 1.11688152\n",
      " 1.07591703 1.05594124 1.05091114 1.01837147 1.00797119 1.00688448\n",
      " 0.99499064 0.98794886 0.97375484 0.96776988 0.9500964  0.94296777\n",
      " 0.90538319 0.88019329 0.87259007 0.77572369 0.76863173 0.75755095\n",
      " 0.73162014 0.71898861 0.70468969 0.68334117 0.6740367  0.66769003\n",
      " 0.64381076 0.63533212 0.61976018 0.61415259 0.59573563 0.58811195\n",
      " 0.57270706 0.56783721 0.55294328 0.54253146 0.51844725 0.51189017\n",
      " 0.50648157 0.48925103 0.48087378 0.46956915 0.45547294 0.43120145\n",
      " 0.41949728 0.41604746 0.38328759]\n",
      "\n"
     ]
    }
   ]
  },
  {
   "cell_type": "code",
   "source": [
    "print(\"Cumulative Variances (Percentage):\")\n",
    "print(pca.explained_variance_ratio_.cumsum() * 100)\n",
    "print()"
   ],
   "metadata": {
    "colab": {
     "base_uri": "https://localhost:8080/"
    },
    "id": "dKRe0035yQvs",
    "outputId": "1bc959d5-f653-4f6d-dd10-c0a3292f2191"
   },
   "execution_count": 23,
   "outputs": [
    {
     "output_type": "stream",
     "name": "stdout",
     "text": [
      "Cumulative Variances (Percentage):\n",
      "[ 5.99423364 10.7688556  15.01963584 18.39791974 21.11255743 23.6672213\n",
      " 26.11060231 28.40723843 30.4900246  32.49477724 34.38332178 36.19563204\n",
      " 37.98216492 39.73543424 41.4216757  43.03717509 44.51919245 45.99043988\n",
      " 47.44366697 48.8892696  50.32503535 51.7068754  53.05624425 54.37991301\n",
      " 55.69721933 56.96482721 58.18633643 59.36964112 60.5121932  61.62907472\n",
      " 62.70499174 63.76093298 64.81184412 65.83021559 66.83818678 67.84507127\n",
      " 68.8400619  69.82801077 70.8017656  71.76953548 72.71963188 73.66259965\n",
      " 74.56798284 75.44817613 76.32076619 77.09648988 77.86512161 78.62267255\n",
      " 79.35429269 80.07328131 80.777971   81.46131217 82.13534887 82.80303891\n",
      " 83.44684966 84.08218178 84.70194196 85.31609455 85.91183018 86.49994213\n",
      " 87.07264919 87.6404864  88.19342968 88.73596115 89.25440839 89.76629856\n",
      " 90.27278013 90.76203116 91.24290494 91.71247408 92.16794702 92.59914846\n",
      " 93.01864574 93.4346932  93.81798079]\n",
      "\n"
     ]
    }
   ]
  },
  {
   "cell_type": "code",
   "source": [
    "# plot a scree plot\n",
    "components = len(pca.explained_variance_ratio_) \\\n",
    "    if components is None else components\n",
    "plt.plot(range(1,components+1),\n",
    "         np.cumsum(pca.explained_variance_ratio_ * 100))\n",
    "plt.xlabel(\"Number of components\")\n",
    "plt.ylabel(\"Explained variance (%)\")\n"
   ],
   "metadata": {
    "colab": {
     "base_uri": "https://localhost:8080/",
     "height": 297
    },
    "id": "FmwbYtY-yWQQ",
    "outputId": "bdc74b5e-9968-4589-e29e-2465699a6548"
   },
   "execution_count": 24,
   "outputs": [
    {
     "output_type": "execute_result",
     "data": {
      "text/plain": [
       "Text(0, 0.5, 'Explained variance (%)')"
      ]
     },
     "metadata": {},
     "execution_count": 24
    },
    {
     "output_type": "display_data",
     "data": {
      "text/plain": [
       "<Figure size 432x288 with 1 Axes>"
      ],
      "image/png": "[encoded data removed]"
     },
     "metadata": {
      "needs_background": "light"
     }
    }
   ]
  },
  {
   "cell_type": "markdown",
   "source": [
    "As we can see we can explain about 95% of the varience in the data using 75 principal components. using those 75 components we can train our model\n",
    "using much less features and therefore:\n",
    "- train our models much faster.\n",
    "- avoid to complex model that tend to overfitting."
   ],
   "metadata": {
    "id": "MWu13Vopyemg"
   }
  },
  {
   "cell_type": "code",
   "source": [
    "# extract 75 PC's from our x-features\n",
    "X_pca = pca.transform(x_features_scaled)\n",
    "print(X_pca.shape)"
   ],
   "metadata": {
    "colab": {
     "base_uri": "https://localhost:8080/"
    },
    "id": "QQnEBCLFyeNs",
    "outputId": "f26469eb-c0e9-44ae-f0b8-cf7a441e7ed4"
   },
   "execution_count": 25,
   "outputs": [
    {
     "output_type": "stream",
     "name": "stdout",
     "text": [
      "(100, 75)\n"
     ]
    }
   ]
  },
  {
   "cell_type": "code",
   "source": [
    "# concanted with the y-label\n",
    "train_test_data = np.concatenate((X_pca, docs_df.iloc[:,-1:]), axis=1)\n",
    "train_test_data.shape"
   ],
   "metadata": {
    "colab": {
     "base_uri": "https://localhost:8080/"
    },
    "id": "IiTFsRxSzuF3",
    "outputId": "42519284-2b88-4b11-c203-7503807fadc0"
   },
   "execution_count": 26,
   "outputs": [
    {
     "output_type": "execute_result",
     "data": {
      "text/plain": [
       "(100, 76)"
      ]
     },
     "metadata": {},
     "execution_count": 26
    }
   ]
  },
  {
   "cell_type": "markdown",
   "source": [
    "<h3>Visualize the data using T-sne</h3>"
   ],
   "metadata": {
    "id": "7EcgAG3j0Jsr"
   }
  },
  {
   "cell_type": "code",
   "source": [
    "betsne = TSNE()\n",
    "# transform the x- features\n",
    "X_embedded = tsne.fit_transform(train_test_data[:,:75])"
   ],
   "metadata": {
    "id": "cd2KXF-l0R2h",
    "colab": {
     "base_uri": "https://localhost:8080/"
    },
    "outputId": "16a78c45-2f1d-458b-e9e6-35bcb31f8ab3"
   },
   "execution_count": 27,
   "outputs": [
    {
     "output_type": "stream",
     "name": "stderr",
     "text": [
      "/usr/local/lib/python3.8/dist-packages/sklearn/manifold/_t_sne.py:780: FutureWarning: The default initialization in TSNE will change from 'random' to 'pca' in 1.2.\n",
      "  warnings.warn(\n",
      "/usr/local/lib/python3.8/dist-packages/sklearn/manifold/_t_sne.py:790: FutureWarning: The default learning rate in TSNE will change from 200.0 to 'auto' in 1.2.\n",
      "  warnings.warn(\n"
     ]
    }
   ]
  },
  {
   "cell_type": "code",
   "source": [
    "# concanted with the y-label\n",
    "embedded_df = np.concatenate((X_embedded, docs_df.iloc[:,-1:]), axis=1)"
   ],
   "metadata": {
    "id": "6OnN2bln1Gpn"
   },
   "execution_count": 28,
   "outputs": []
  },
  {
   "cell_type": "code",
   "source": [
    "# rename y-col\n",
    "embedded_df = pd.DataFrame(embedded_df)\n",
    "embedded_df.rename(columns={2: 'Category'}, inplace=True)"
   ],
   "metadata": {
    "id": "VOjZkPti1Rri"
   },
   "execution_count": 29,
   "outputs": []
  },
  {
   "cell_type": "code",
   "source": [
    "# create plot\n",
    "plt.figure(figsize=(10, 10))\n",
    "sns.scatterplot(data=embedded_df, x=0, y=1, hue='Category')"
   ],
   "metadata": {
    "colab": {
     "base_uri": "https://localhost:8080/",
     "height": 624
    },
    "id": "jsMpNt0Q11La",
    "outputId": "d8728e24-439f-4704-bb14-57b7637d835c"
   },
   "execution_count": 30,
   "outputs": [
    {
     "output_type": "execute_result",
     "data": {
      "text/plain": [
       "<matplotlib.axes._subplots.AxesSubplot at 0x7f729e26b7c0>"
      ]
     },
     "metadata": {},
     "execution_count": 30
    },
    {
     "output_type": "display_data",
     "data": {
      "text/plain": [
       "<Figure size 720x720 with 1 Axes>"
      ],
      "image/png": "[encoded data removed]"
     },
     "metadata": {
      "needs_background": "light"
     }
    }
   ]
  },
  {
   "cell_type": "markdown",
   "source": [
    "It seems like our categories(belong to explaing AI(1), not belong to explaing Ai(0)), are not linearly separated."
   ],
   "metadata": {
    "id": "6WCSQ4kv4hWM"
   }
  },
  {
   "cell_type": "markdown",
   "source": [
    "<h3>K-cross validation<h3>"
   ],
   "metadata": {
    "id": "MkeVoSQL9G22"
   }
  },
  {
   "cell_type": "code",
   "source": [
    "\"../ClassificationModelsDatasets/Concatenated-DF.csv\"# using k = 10\n",
    "kcv_list = k_cross_validation(x_features=pd.DataFrame(train_test_data[:,:75]), y_label=docs_df.iloc[:,-1:], k=10)"
   ],
   "metadata": {
    "id": "xz_g390u9KmL"
   },
   "execution_count": null,
   "outputs": []
  },
  {
   "cell_type": "markdown",
   "source": [
    "<h2>Applying classification models</h2>"
   ],
   "metadata": {
    "id": "jHIwLPjZ5lIc"
   }
  },
  {
   "cell_type": "markdown",
   "source": [
    "<h3>KNN</h3>"
   ],
   "metadata": {
    "id": "6keG5b3z5qsn"
   }
  },
  {
   "cell_type": "code",
   "source": [
    "best_classifier_knn = None\n",
    "best_accu_knn = 0\n",
    "best_x_test_knn = None\n",
    "best_y_test_knn = None\n",
    "\n",
    "for batch in kcv_list:\n",
    "  x_train = batch[0]\n",
    "  y_train = batch[1]\n",
    "  x_test = batch[2]\n",
    "  y_test = batch[3]\n",
    "  # normalize x-features\n",
    "  sc = StandardScaler()\n",
    "  x_train = sc.fit_transform(x_train)\n",
    "  x_test = sc.fit_transform(x_test)\n",
    "\n",
    "  knn = KNeighborsClassifier()\n",
    "\n",
    "  # define parameter grid\n",
    "  parameters_grid = {\n",
    "      'n_neighbors': [ 3, 5, 10],\n",
    "      'weights': ['uniform', 'distance']\n",
    "  }\n",
    "\n",
    "  # define grid search\n",
    "  grid_search = GridSearchCV(estimator=knn, param_grid=parameters_grid)\n",
    "\n",
    "\n",
    "  # fit estimator\n",
    "  grid_search.fit(x_train, y_train)\n",
    "\n",
    "  # get best estimator\n",
    "  best = grid_search.best_estimator_\n",
    "\n",
    "  # predict\n",
    "  y_pred = best.predict(x_test)\n",
    "\n",
    "\n",
    "  # calculate accuracy\n",
    "  acc = round(accuracy_score(y_test, y_pred), 3)\n",
    "\n",
    "  # update best classifier\n",
    "  if acc > best_accu_knn:\n",
    "    best_accu_knn = acc\n",
    "    best_classifier_knn = best\n",
    "    best_x_test_knn = x_test\n",
    "    best_y_test_knn = y_test"
   ],
   "metadata": {
    "id": "mPgv9VBh1-0Y"
   },
   "execution_count": null,
   "outputs": []
  },
  {
   "cell_type": "markdown",
   "source": [
    "<H3>Evaluate the model</H3>"
   ],
   "metadata": {
    "id": "jD6c3Fz9XwwZ"
   }
  },
  {
   "cell_type": "code",
   "source": [
    "print(\"KNN best classifier accuracy is {}\".format(best_accu_knn))"
   ],
   "metadata": {
    "colab": {
     "base_uri": "https://localhost:8080/"
    },
    "id": "JI6N6nSCW-Vk",
    "outputId": "0c74d631-abd8-47a9-bd53-04f21e03b268"
   },
   "execution_count": 33,
   "outputs": [
    {
     "output_type": "stream",
     "name": "stdout",
     "text": [
      "KNN best classifier accuracy is 1.0\n"
     ]
    }
   ]
  },
  {
   "cell_type": "code",
   "source": [
    "# confusion matrix\n",
    "y_pred = best_classifier_knn.predict(best_x_test_knn)\n",
    "plot_confusion_matrix(best_classifier_knn, best_x_test_knn, best_y_test_knn)\n",
    "plt.show()\n",
    "\n",
    "tp, fn, fp, tn = confusion_matrix(best_y_test_knn, y_pred).ravel()\n",
    "eval_Df = {\"sensitivity\": tp/(tp+fn), \"specificity\": tn/(tn+fp)}\n",
    "pd.DataFrame(data=eval_Df, index=[0])"
   ],
   "metadata": {
    "colab": {
     "base_uri": "https://localhost:8080/",
     "height": 402
    },
    "id": "HPsuSXOaXnPF",
    "outputId": "9572e4d8-7c29-42e2-93e1-cdc567eb0820"
   },
   "execution_count": 34,
   "outputs": [
    {
     "output_type": "stream",
     "name": "stderr",
     "text": [
      "/usr/local/lib/python3.8/dist-packages/sklearn/utils/deprecation.py:87: FutureWarning: Function plot_confusion_matrix is deprecated; Function `plot_confusion_matrix` is deprecated in 1.0 and will be removed in 1.2. Use one of the class methods: ConfusionMatrixDisplay.from_predictions or ConfusionMatrixDisplay.from_estimator.\n",
      "  warnings.warn(msg, category=FutureWarning)\n"
     ]
    },
    {
     "output_type": "display_data",
     "data": {
      "text/plain": [
       "<Figure size 432x288 with 2 Axes>"
      ],
      "image/png": "[encoded data removed]"
     },
     "metadata": {
      "needs_background": "light"
     }
    },
    {
     "output_type": "execute_result",
     "data": {
      "text/plain": [
       "   sensitivity  specificity\n",
       "0     1.000000     1.000000"
      ],
      "text/html": [
       "\n",
       "  <div id=\"df-a5a477fa-6f1c-4717-916a-5d36c7451aa9\">\n",
       "    <div class=\"colab-df-container\">\n",
       "      <div>\n",
       "<style scoped>\n",
       "    .dataframe tbody tr th:only-of-type {\n",
       "        vertical-align: middle;\n",
       "    }\n",
       "\n",
       "    .dataframe tbody tr th {\n",
       "        vertical-align: top;\n",
       "    }\n",
       "\n",
       "    .dataframe thead th {\n",
       "        text-align: right;\n",
       "    }\n",
       "</style>\n",
       "<table border=\"1\" class=\"dataframe\">\n",
       "  <thead>\n",
       "    <tr style=\"text-align: right;\">\n",
       "      <th></th>\n",
       "      <th>sensitivity</th>\n",
       "      <th>specificity</th>\n",
       "    </tr>\n",
       "  </thead>\n",
       "  <tbody>\n",
       "    <tr>\n",
       "      <th>0</th>\n",
       "      <td>1.000000</td>\n",
       "      <td>1.000000</td>\n",
       "    </tr>\n",
       "  </tbody>\n",
       "</table>\n",
       "</div>\n",
       "      <button class=\"colab-df-convert\" onclick=\"convertToInteractive('df-a5a477fa-6f1c-4717-916a-5d36c7451aa9')\"\n",
       "              title=\"Convert this dataframe to an interactive table.\"\n",
       "              style=\"display:none;\">\n",
       "        \n",
       "  <svg xmlns=\"http://www.w3.org/2000/svg\" height=\"24px\"viewBox=\"0 0 24 24\"\n",
       "       width=\"24px\">\n",
       "    <path d=\"M0 0h24v24H0V0z\" fill=\"none\"/>\n",
       "    <path d=\"M18.56 5.44l.94 2.06.94-2.06 2.06-.94-2.06-.94-.94-2.06-.94 2.06-2.06.94zm-11 1L8.5 8.5l.94-2.06 2.06-.94-2.06-.94L8.5 2.5l-.94 2.06-2.06.94zm10 10l.94 2.06.94-2.06 2.06-.94-2.06-.94-.94-2.06-.94 2.06-2.06.94z\"/><path d=\"M17.41 7.96l-1.37-1.37c-.4-.4-.92-.59-1.43-.59-.52 0-1.04.2-1.43.59L10.3 9.45l-7.72 7.72c-.78.78-.78 2.05 0 2.83L4 21.41c.39.39.9.59 1.41.59.51 0 1.02-.2 1.41-.59l7.78-7.78 2.81-2.81c.8-.78.8-2.07 0-2.86zM5.41 20L4 18.59l7.72-7.72 1.47 1.35L5.41 20z\"/>\n",
       "  </svg>\n",
       "      </button>\n",
       "      \n",
       "  <style>\n",
       "    .colab-df-container {\n",
       "      display:flex;\n",
       "      flex-wrap:wrap;\n",
       "      gap: 12px;\n",
       "    }\n",
       "\n",
       "    .colab-df-convert {\n",
       "      background-color: #E8F0FE;\n",
       "      border: none;\n",
       "      border-radius: 50%;\n",
       "      cursor: pointer;\n",
       "      display: none;\n",
       "      fill: #1967D2;\n",
       "      height: 32px;\n",
       "      padding: 0 0 0 0;\n",
       "      width: 32px;\n",
       "    }\n",
       "\n",
       "    .colab-df-convert:hover {\n",
       "      background-color: #E2EBFA;\n",
       "      box-shadow: 0px 1px 2px rgba(60, 64, 67, 0.3), 0px 1px 3px 1px rgba(60, 64, 67, 0.15);\n",
       "      fill: #174EA6;\n",
       "    }\n",
       "\n",
       "    [theme=dark] .colab-df-convert {\n",
       "      background-color: #3B4455;\n",
       "      fill: #D2E3FC;\n",
       "    }\n",
       "\n",
       "    [theme=dark] .colab-df-convert:hover {\n",
       "      background-color: #434B5C;\n",
       "      box-shadow: 0px 1px 3px 1px rgba(0, 0, 0, 0.15);\n",
       "      filter: drop-shadow(0px 1px 2px rgba(0, 0, 0, 0.3));\n",
       "      fill: #FFFFFF;\n",
       "    }\n",
       "  </style>\n",
       "\n",
       "      <script>\n",
       "        const buttonEl =\n",
       "          document.querySelector('#df-a5a477fa-6f1c-4717-916a-5d36c7451aa9 button.colab-df-convert');\n",
       "        buttonEl.style.display =\n",
       "          google.colab.kernel.accessAllowed ? 'block' : 'none';\n",
       "\n",
       "        async function convertToInteractive(key) {\n",
       "          const element = document.querySelector('#df-a5a477fa-6f1c-4717-916a-5d36c7451aa9');\n",
       "          const dataTable =\n",
       "            await google.colab.kernel.invokeFunction('convertToInteractive',\n",
       "                                                     [key], {});\n",
       "          if (!dataTable) return;\n",
       "\n",
       "          const docLinkHtml = 'Like what you see? Visit the ' +\n",
       "            '<a target=\"_blank\" href=https://colab.research.google.com/notebooks/data_table.ipynb>data table notebook</a>'\n",
       "            + ' to learn more about interactive tables.';\n",
       "          element.innerHTML = '';\n",
       "          dataTable['output_type'] = 'display_data';\n",
       "          await google.colab.output.renderOutput(dataTable, element);\n",
       "          const docLink = document.createElement('div');\n",
       "          docLink.innerHTML = docLinkHtml;\n",
       "          element.appendChild(docLink);\n",
       "        }\n",
       "      </script>\n",
       "    </div>\n",
       "  </div>\n",
       "  "
      ]
     },
     "metadata": {},
     "execution_count": 34
    }
   ]
  },
  {
   "cell_type": "markdown",
   "source": [
    "<h3>SVM</h3>"
   ],
   "metadata": {
    "id": "DRRFQoCxY626"
   }
  },
  {
   "cell_type": "code",
   "source": [
    "best_classifier_SVM = None\n",
    "best_accu_SVM = 0\n",
    "best_x_test_SVM = None\n",
    "best_y_test_SVM = None\n",
    "\n",
    "for batch in kcv_list:\n",
    "  x_train = batch[0]\n",
    "  y_train = batch[1]\n",
    "  x_test = batch[2]\n",
    "  y_test = batch[3]\n",
    "  # normalize x-features\n",
    "  sc = StandardScaler()\n",
    "  x_train = sc.fit_transform(x_train)\n",
    "  x_test = sc.fit_transform(x_test)\n",
    "\n",
    "  clf = svm.SVC(random_state=RSEED)\n",
    "\n",
    "  # define parameter grid\n",
    "  parameters_grid = {\n",
    "      'C': [0.1, 0.5,0.7,1.2,1.5,20,40,60],\n",
    "      'kernel': ['linear', 'poly','rbf', 'sigmoid'],\n",
    "      'degree': [3,4],\n",
    "\n",
    "  }\n",
    "\n",
    "  # define grid search\n",
    "  grid_search = GridSearchCV(estimator=clf, param_grid=parameters_grid)\n",
    "\n",
    "\n",
    "\n",
    "  # fit estimator\n",
    "  grid_search.fit(x_train, y_train)\n",
    "\n",
    "  # get best estimator\n",
    "  best = grid_search.best_estimator_\n",
    "\n",
    "  # predict\n",
    "  y_pred = best.predict(x_test)\n",
    "\n",
    "\n",
    "  # calculate accuracy\n",
    "  acc = round(accuracy_score(y_test, y_pred), 3)\n",
    "\n",
    "  # update best classifier\n",
    "  if acc > best_accu_SVM:\n",
    "    best_accu_SVM = acc\n",
    "    best_classifier_SVM = best\n",
    "    best_x_test_SVM = x_test\n",
    "    best_y_test_SVM = y_test"
   ],
   "metadata": {
    "id": "4AUmFNDQY6eK"
   },
   "execution_count": null,
   "outputs": []
  },
  {
   "cell_type": "markdown",
   "source": [
    "<H3>Evaluate the model</H3>"
   ],
   "metadata": {
    "id": "vym6zlmsZx4f"
   }
  },
  {
   "cell_type": "code",
   "source": [
    "print(\"SVM best classifier accuracy is {}\".format(best_accu_SVM))"
   ],
   "metadata": {
    "colab": {
     "base_uri": "https://localhost:8080/"
    },
    "id": "a-Hv_EMEZqS1",
    "outputId": "0e32eb2d-822a-4a98-c450-eb17ddd88bb5"
   },
   "execution_count": 36,
   "outputs": [
    {
     "output_type": "stream",
     "name": "stdout",
     "text": [
      "SVM best classifier accuracy is 1.0\n"
     ]
    }
   ]
  },
  {
   "cell_type": "code",
   "source": [
    "# confusion matrix\n",
    "y_pred = best_classifier_SVM.predict(best_x_test_SVM)\n",
    "plot_confusion_matrix(best_classifier_SVM, best_x_test_SVM, best_y_test_SVM)\n",
    "plt.show()\n",
    "\n",
    "tp, fn, fp, tn = confusion_matrix(best_y_test_SVM, y_pred).ravel()\n",
    "eval_Df = {\"sensitivity\": tp/(tp+fn), \"specificity\": tn/(tn+fp)}\n",
    "pd.DataFrame(data=eval_Df, index=[0])"
   ],
   "metadata": {
    "colab": {
     "base_uri": "https://localhost:8080/",
     "height": 402
    },
    "id": "7ZfwNK7baEbS",
    "outputId": "00e9f148-1d0a-41ac-b682-9d89730fc162"
   },
   "execution_count": 37,
   "outputs": [
    {
     "output_type": "stream",
     "name": "stderr",
     "text": [
      "/usr/local/lib/python3.8/dist-packages/sklearn/utils/deprecation.py:87: FutureWarning: Function plot_confusion_matrix is deprecated; Function `plot_confusion_matrix` is deprecated in 1.0 and will be removed in 1.2. Use one of the class methods: ConfusionMatrixDisplay.from_predictions or ConfusionMatrixDisplay.from_estimator.\n",
      "  warnings.warn(msg, category=FutureWarning)\n"
     ]
    },
    {
     "output_type": "display_data",
     "data": {
      "text/plain": [
       "<Figure size 432x288 with 2 Axes>"
      ],
      "image/png": "[encoded data removed]"
     },
     "metadata": {
      "needs_background": "light"
     }
    },
    {
     "output_type": "execute_result",
     "data": {
      "text/plain": [
       "   sensitivity  specificity\n",
       "0     1.000000     1.000000"
      ],
      "text/html": [
       "\n",
       "  <div id=\"df-846a0892-a018-4108-9448-4593774eb129\">\n",
       "    <div class=\"colab-df-container\">\n",
       "      <div>\n",
       "<style scoped>\n",
       "    .dataframe tbody tr th:only-of-type {\n",
       "        vertical-align: middle;\n",
       "    }\n",
       "\n",
       "    .dataframe tbody tr th {\n",
       "        vertical-align: top;\n",
       "    }\n",
       "\n",
       "    .dataframe thead th {\n",
       "        text-align: right;\n",
       "    }\n",
       "</style>\n",
       "<table border=\"1\" class=\"dataframe\">\n",
       "  <thead>\n",
       "    <tr style=\"text-align: right;\">\n",
       "      <th></th>\n",
       "      <th>sensitivity</th>\n",
       "      <th>specificity</th>\n",
       "    </tr>\n",
       "  </thead>\n",
       "  <tbody>\n",
       "    <tr>\n",
       "      <th>0</th>\n",
       "      <td>1.000000</td>\n",
       "      <td>1.000000</td>\n",
       "    </tr>\n",
       "  </tbody>\n",
       "</table>\n",
       "</div>\n",
       "      <button class=\"colab-df-convert\" onclick=\"convertToInteractive('df-846a0892-a018-4108-9448-4593774eb129')\"\n",
       "              title=\"Convert this dataframe to an interactive table.\"\n",
       "              style=\"display:none;\">\n",
       "        \n",
       "  <svg xmlns=\"http://www.w3.org/2000/svg\" height=\"24px\"viewBox=\"0 0 24 24\"\n",
       "       width=\"24px\">\n",
       "    <path d=\"M0 0h24v24H0V0z\" fill=\"none\"/>\n",
       "    <path d=\"M18.56 5.44l.94 2.06.94-2.06 2.06-.94-2.06-.94-.94-2.06-.94 2.06-2.06.94zm-11 1L8.5 8.5l.94-2.06 2.06-.94-2.06-.94L8.5 2.5l-.94 2.06-2.06.94zm10 10l.94 2.06.94-2.06 2.06-.94-2.06-.94-.94-2.06-.94 2.06-2.06.94z\"/><path d=\"M17.41 7.96l-1.37-1.37c-.4-.4-.92-.59-1.43-.59-.52 0-1.04.2-1.43.59L10.3 9.45l-7.72 7.72c-.78.78-.78 2.05 0 2.83L4 21.41c.39.39.9.59 1.41.59.51 0 1.02-.2 1.41-.59l7.78-7.78 2.81-2.81c.8-.78.8-2.07 0-2.86zM5.41 20L4 18.59l7.72-7.72 1.47 1.35L5.41 20z\"/>\n",
       "  </svg>\n",
       "      </button>\n",
       "      \n",
       "  <style>\n",
       "    .colab-df-container {\n",
       "      display:flex;\n",
       "      flex-wrap:wrap;\n",
       "      gap: 12px;\n",
       "    }\n",
       "\n",
       "    .colab-df-convert {\n",
       "      background-color: #E8F0FE;\n",
       "      border: none;\n",
       "      border-radius: 50%;\n",
       "      cursor: pointer;\n",
       "      display: none;\n",
       "      fill: #1967D2;\n",
       "      height: 32px;\n",
       "      padding: 0 0 0 0;\n",
       "      width: 32px;\n",
       "    }\n",
       "\n",
       "    .colab-df-convert:hover {\n",
       "      background-color: #E2EBFA;\n",
       "      box-shadow: 0px 1px 2px rgba(60, 64, 67, 0.3), 0px 1px 3px 1px rgba(60, 64, 67, 0.15);\n",
       "      fill: #174EA6;\n",
       "    }\n",
       "\n",
       "    [theme=dark] .colab-df-convert {\n",
       "      background-color: #3B4455;\n",
       "      fill: #D2E3FC;\n",
       "    }\n",
       "\n",
       "    [theme=dark] .colab-df-convert:hover {\n",
       "      background-color: #434B5C;\n",
       "      box-shadow: 0px 1px 3px 1px rgba(0, 0, 0, 0.15);\n",
       "      filter: drop-shadow(0px 1px 2px rgba(0, 0, 0, 0.3));\n",
       "      fill: #FFFFFF;\n",
       "    }\n",
       "  </style>\n",
       "\n",
       "      <script>\n",
       "        const buttonEl =\n",
       "          document.querySelector('#df-846a0892-a018-4108-9448-4593774eb129 button.colab-df-convert');\n",
       "        buttonEl.style.display =\n",
       "          google.colab.kernel.accessAllowed ? 'block' : 'none';\n",
       "\n",
       "        async function convertToInteractive(key) {\n",
       "          const element = document.querySelector('#df-846a0892-a018-4108-9448-4593774eb129');\n",
       "          const dataTable =\n",
       "            await google.colab.kernel.invokeFunction('convertToInteractive',\n",
       "                                                     [key], {});\n",
       "          if (!dataTable) return;\n",
       "\n",
       "          const docLinkHtml = 'Like what you see? Visit the ' +\n",
       "            '<a target=\"_blank\" href=https://colab.research.google.com/notebooks/data_table.ipynb>data table notebook</a>'\n",
       "            + ' to learn more about interactive tables.';\n",
       "          element.innerHTML = '';\n",
       "          dataTable['output_type'] = 'display_data';\n",
       "          await google.colab.output.renderOutput(dataTable, element);\n",
       "          const docLink = document.createElement('div');\n",
       "          docLink.innerHTML = docLinkHtml;\n",
       "          element.appendChild(docLink);\n",
       "        }\n",
       "      </script>\n",
       "    </div>\n",
       "  </div>\n",
       "  "
      ]
     },
     "metadata": {},
     "execution_count": 37
    }
   ]
  },
  {
   "cell_type": "markdown",
   "source": [
    "<h3>Random Forest</h3>"
   ],
   "metadata": {
    "id": "IJPjiff9aoix"
   }
  },
  {
   "cell_type": "code",
   "source": [
    "best_classifier_RF = None\n",
    "best_accu_RF = 0\n",
    "best_x_test_RF = None\n",
    "best_y_test_RF = None\n",
    "\n",
    "for batch in kcv_list:\n",
    "  x_train = batch[0]\n",
    "  y_train = batch[1]\n",
    "  x_test = batch[2]\n",
    "  y_test = batch[3]\n",
    "\n",
    "  # define model\n",
    "  rf = RandomForestClassifier(random_state=RSEED)\n",
    "\n",
    "  # define parameter grid\n",
    "  parameters_grid = {\n",
    "      'max_depth': [2, 3, 4, 6],\n",
    "      'min_samples_split': [2, 4, 8],\n",
    "      'min_samples_leaf': [2, 8],\n",
    "      'n_estimators': [50,70,100]\n",
    "  }\n",
    "   # define grid search\n",
    "  grid_search = GridSearchCV(estimator=rf, param_grid=parameters_grid)\n",
    "\n",
    "\n",
    "\n",
    "  # fit estimator\n",
    "  grid_search.fit(x_train, y_train)\n",
    "\n",
    "  # get best estimator\n",
    "  best = grid_search.best_estimator_\n",
    "\n",
    "  # predict\n",
    "  y_pred = best.predict(x_test)\n",
    "\n",
    "\n",
    "  # calculate accuracy\n",
    "  acc = round(accuracy_score(y_test, y_pred), 3)\n",
    "\n",
    "  # update best classifier\n",
    "  if acc > best_accu_RF:\n",
    "    best_accu_RF = acc\n",
    "    best_classifier_RF = best\n",
    "    best_x_test_RF = x_test\n",
    "    best_y_test_RF = y_test"
   ],
   "metadata": {
    "id": "SQWuJn07al59"
   },
   "execution_count": null,
   "outputs": []
  },
  {
   "cell_type": "markdown",
   "source": [
    "<h3>Evaluate the model</h3>"
   ],
   "metadata": {
    "id": "Lc2mttBAc8Oo"
   }
  },
  {
   "cell_type": "code",
   "source": [
    "print(\"Random forest best classifier accuracy is {}\".format(best_accu_RF))"
   ],
   "metadata": {
    "colab": {
     "base_uri": "https://localhost:8080/"
    },
    "id": "dtVu_F1bc7ka",
    "outputId": "d9bfa262-878f-4097-be2b-f0ca236ec3c5"
   },
   "execution_count": 39,
   "outputs": [
    {
     "output_type": "stream",
     "name": "stdout",
     "text": [
      "Random forest best classifier accuracy is 1.0\n"
     ]
    }
   ]
  },
  {
   "cell_type": "code",
   "source": [
    "# confusion matrix\n",
    "y_pred = best_classifier_RF.predict(best_x_test_RF)\n",
    "plot_confusion_matrix(best_classifier_RF, best_x_test_RF, best_y_test_RF)\n",
    "plt.show()\n",
    "\n",
    "tp, fn, fp, tn = confusion_matrix(best_y_test_RF, y_pred).ravel()\n",
    "eval_Df = {\"sensitivity\": tp/(tp+fn), \"specificity\": tn/(tn+fp)}\n",
    "pd.DataFrame(data=eval_Df, index=[0])"
   ],
   "metadata": {
    "colab": {
     "base_uri": "https://localhost:8080/",
     "height": 402
    },
    "id": "uT1s5aWIdp9J",
    "outputId": "e75696fb-efd0-4c1b-d770-510c74fbfea2"
   },
   "execution_count": 40,
   "outputs": [
    {
     "output_type": "stream",
     "name": "stderr",
     "text": [
      "/usr/local/lib/python3.8/dist-packages/sklearn/utils/deprecation.py:87: FutureWarning: Function plot_confusion_matrix is deprecated; Function `plot_confusion_matrix` is deprecated in 1.0 and will be removed in 1.2. Use one of the class methods: ConfusionMatrixDisplay.from_predictions or ConfusionMatrixDisplay.from_estimator.\n",
      "  warnings.warn(msg, category=FutureWarning)\n"
     ]
    },
    {
     "output_type": "display_data",
     "data": {
      "text/plain": [
       "<Figure size 432x288 with 2 Axes>"
      ],
      "image/png": "[encoded data removed]"
     },
     "metadata": {
      "needs_background": "light"
     }
    },
    {
     "output_type": "execute_result",
     "data": {
      "text/plain": [
       "   sensitivity  specificity\n",
       "0     1.000000     1.000000"
      ],
      "text/html": [
       "\n",
       "  <div id=\"df-00bb4d3a-c0b2-4f8b-8ca6-bd76518858aa\">\n",
       "    <div class=\"colab-df-container\">\n",
       "      <div>\n",
       "<style scoped>\n",
       "    .dataframe tbody tr th:only-of-type {\n",
       "        vertical-align: middle;\n",
       "    }\n",
       "\n",
       "    .dataframe tbody tr th {\n",
       "        vertical-align: top;\n",
       "    }\n",
       "\n",
       "    .dataframe thead th {\n",
       "        text-align: right;\n",
       "    }\n",
       "</style>\n",
       "<table border=\"1\" class=\"dataframe\">\n",
       "  <thead>\n",
       "    <tr style=\"text-align: right;\">\n",
       "      <th></th>\n",
       "      <th>sensitivity</th>\n",
       "      <th>specificity</th>\n",
       "    </tr>\n",
       "  </thead>\n",
       "  <tbody>\n",
       "    <tr>\n",
       "      <th>0</th>\n",
       "      <td>1.000000</td>\n",
       "      <td>1.000000</td>\n",
       "    </tr>\n",
       "  </tbody>\n",
       "</table>\n",
       "</div>\n",
       "      <button class=\"colab-df-convert\" onclick=\"convertToInteractive('df-00bb4d3a-c0b2-4f8b-8ca6-bd76518858aa')\"\n",
       "              title=\"Convert this dataframe to an interactive table.\"\n",
       "              style=\"display:none;\">\n",
       "        \n",
       "  <svg xmlns=\"http://www.w3.org/2000/svg\" height=\"24px\"viewBox=\"0 0 24 24\"\n",
       "       width=\"24px\">\n",
       "    <path d=\"M0 0h24v24H0V0z\" fill=\"none\"/>\n",
       "    <path d=\"M18.56 5.44l.94 2.06.94-2.06 2.06-.94-2.06-.94-.94-2.06-.94 2.06-2.06.94zm-11 1L8.5 8.5l.94-2.06 2.06-.94-2.06-.94L8.5 2.5l-.94 2.06-2.06.94zm10 10l.94 2.06.94-2.06 2.06-.94-2.06-.94-.94-2.06-.94 2.06-2.06.94z\"/><path d=\"M17.41 7.96l-1.37-1.37c-.4-.4-.92-.59-1.43-.59-.52 0-1.04.2-1.43.59L10.3 9.45l-7.72 7.72c-.78.78-.78 2.05 0 2.83L4 21.41c.39.39.9.59 1.41.59.51 0 1.02-.2 1.41-.59l7.78-7.78 2.81-2.81c.8-.78.8-2.07 0-2.86zM5.41 20L4 18.59l7.72-7.72 1.47 1.35L5.41 20z\"/>\n",
       "  </svg>\n",
       "      </button>\n",
       "      \n",
       "  <style>\n",
       "    .colab-df-container {\n",
       "      display:flex;\n",
       "      flex-wrap:wrap;\n",
       "      gap: 12px;\n",
       "    }\n",
       "\n",
       "    .colab-df-convert {\n",
       "      background-color: #E8F0FE;\n",
       "      border: none;\n",
       "      border-radius: 50%;\n",
       "      cursor: pointer;\n",
       "      display: none;\n",
       "      fill: #1967D2;\n",
       "      height: 32px;\n",
       "      padding: 0 0 0 0;\n",
       "      width: 32px;\n",
       "    }\n",
       "\n",
       "    .colab-df-convert:hover {\n",
       "      background-color: #E2EBFA;\n",
       "      box-shadow: 0px 1px 2px rgba(60, 64, 67, 0.3), 0px 1px 3px 1px rgba(60, 64, 67, 0.15);\n",
       "      fill: #174EA6;\n",
       "    }\n",
       "\n",
       "    [theme=dark] .colab-df-convert {\n",
       "      background-color: #3B4455;\n",
       "      fill: #D2E3FC;\n",
       "    }\n",
       "\n",
       "    [theme=dark] .colab-df-convert:hover {\n",
       "      background-color: #434B5C;\n",
       "      box-shadow: 0px 1px 3px 1px rgba(0, 0, 0, 0.15);\n",
       "      filter: drop-shadow(0px 1px 2px rgba(0, 0, 0, 0.3));\n",
       "      fill: #FFFFFF;\n",
       "    }\n",
       "  </style>\n",
       "\n",
       "      <script>\n",
       "        const buttonEl =\n",
       "          document.querySelector('#df-00bb4d3a-c0b2-4f8b-8ca6-bd76518858aa button.colab-df-convert');\n",
       "        buttonEl.style.display =\n",
       "          google.colab.kernel.accessAllowed ? 'block' : 'none';\n",
       "\n",
       "        async function convertToInteractive(key) {\n",
       "          const element = document.querySelector('#df-00bb4d3a-c0b2-4f8b-8ca6-bd76518858aa');\n",
       "          const dataTable =\n",
       "            await google.colab.kernel.invokeFunction('convertToInteractive',\n",
       "                                                     [key], {});\n",
       "          if (!dataTable) return;\n",
       "\n",
       "          const docLinkHtml = 'Like what you see? Visit the ' +\n",
       "            '<a target=\"_blank\" href=https://colab.research.google.com/notebooks/data_table.ipynb>data table notebook</a>'\n",
       "            + ' to learn more about interactive tables.';\n",
       "          element.innerHTML = '';\n",
       "          dataTable['output_type'] = 'display_data';\n",
       "          await google.colab.output.renderOutput(dataTable, element);\n",
       "          const docLink = document.createElement('div');\n",
       "          docLink.innerHTML = docLinkHtml;\n",
       "          element.appendChild(docLink);\n",
       "        }\n",
       "      </script>\n",
       "    </div>\n",
       "  </div>\n",
       "  "
      ]
     },
     "metadata": {},
     "execution_count": 40
    }
   ]
  },
  {
   "cell_type": "markdown",
   "source": [
    "<h3>Navie Bayes</h3>"
   ],
   "metadata": {
    "id": "N1sLCF6Fd1ec"
   }
  },
  {
   "cell_type": "code",
   "source": [
    "best_classifier_NB = None\n",
    "best_accu_NB = 0\n",
    "best_x_test_NB = None\n",
    "best_y_test_NB = None\n",
    "\n",
    "for batch in kcv_list:\n",
    "  x_train = batch[0]\n",
    "  y_train = batch[1]\n",
    "  x_test = batch[2]\n",
    "  y_test = batch[3]\n",
    "\n",
    "  # define parameter grid\n",
    "  param_grid_nb = {\n",
    "    'var_smoothing': np.logspace(0,-9, num=100)\n",
    "  }\n",
    "\n",
    "  # define and train the model\n",
    "  grid_search = GridSearchCV(estimator=GaussianNB(), param_grid=param_grid_nb, verbose=1, n_jobs=-1)\n",
    "  grid_search.fit(x_train, y_train)\n",
    "\n",
    "  # get best estimator\n",
    "  best = grid_search.best_estimator_\n",
    "\n",
    "  # predict\n",
    "  y_pred = best.predict(x_test)\n",
    "\n",
    "\n",
    "  # calculate accuracy\n",
    "  acc = round(accuracy_score(y_test, y_pred), 3)\n",
    "\n",
    "  # update best classifier\n",
    "  if acc > best_accu_NB:\n",
    "    best_accu_NB = acc\n",
    "    best_classifier_NB = best\n",
    "    best_x_test_NB = x_test\n",
    "    best_y_test_NB = y_test"
   ],
   "metadata": {
    "id": "kFsAyembd0tt"
   },
   "execution_count": null,
   "outputs": []
  },
  {
   "cell_type": "markdown",
   "source": [
    "<h3>Evaluate the model</h3>"
   ],
   "metadata": {
    "id": "CsZIb80yfwcS"
   }
  },
  {
   "cell_type": "code",
   "source": [
    "print(\"Navie Bayes best classifier accuracy is {}\".format(best_accu_NB))"
   ],
   "metadata": {
    "colab": {
     "base_uri": "https://localhost:8080/"
    },
    "id": "Ol62VreSfv2r",
    "outputId": "44447d9d-94d2-42c8-95a5-e971b3021c4c"
   },
   "execution_count": 42,
   "outputs": [
    {
     "output_type": "stream",
     "name": "stdout",
     "text": [
      "Navie Bayes best classifier accuracy is 0.9\n"
     ]
    }
   ]
  },
  {
   "cell_type": "code",
   "source": [
    "# confusion matrix\n",
    "y_pred = best_classifier_NB.predict(best_x_test_NB)\n",
    "plot_confusion_matrix(best_classifier_NB, best_x_test_NB, best_y_test_NB)\n",
    "plt.show()\n",
    "\n",
    "tp, fn, fp, tn = confusion_matrix(best_y_test_NB, y_pred).ravel()\n",
    "eval_Df = {\"sensitivity\": tp/(tp+fn), \"specificity\": tn/(tn+fp)}\n",
    "pd.DataFrame(data=eval_Df, index=[0])"
   ],
   "metadata": {
    "colab": {
     "base_uri": "https://localhost:8080/",
     "height": 402
    },
    "id": "DQK2jeyUf4ET",
    "outputId": "538fb1aa-f6d1-4d4b-d53a-96531ea86406"
   },
   "execution_count": 43,
   "outputs": [
    {
     "output_type": "stream",
     "name": "stderr",
     "text": [
      "/usr/local/lib/python3.8/dist-packages/sklearn/utils/deprecation.py:87: FutureWarning: Function plot_confusion_matrix is deprecated; Function `plot_confusion_matrix` is deprecated in 1.0 and will be removed in 1.2. Use one of the class methods: ConfusionMatrixDisplay.from_predictions or ConfusionMatrixDisplay.from_estimator.\n",
      "  warnings.warn(msg, category=FutureWarning)\n"
     ]
    },
    {
     "output_type": "display_data",
     "data": {
      "text/plain": [
       "<Figure size 432x288 with 2 Axes>"
      ],
      "image/png": "[encoded data removed]"
     },
     "metadata": {
      "needs_background": "light"
     }
    },
    {
     "output_type": "execute_result",
     "data": {
      "text/plain": [
       "   sensitivity  specificity\n",
       "0     0.750000     1.000000"
      ],
      "text/html": [
       "\n",
       "  <div id=\"df-1df94117-26b7-4152-9ba7-b4d73c8e9726\">\n",
       "    <div class=\"colab-df-container\">\n",
       "      <div>\n",
       "<style scoped>\n",
       "    .dataframe tbody tr th:only-of-type {\n",
       "        vertical-align: middle;\n",
       "    }\n",
       "\n",
       "    .dataframe tbody tr th {\n",
       "        vertical-align: top;\n",
       "    }\n",
       "\n",
       "    .dataframe thead th {\n",
       "        text-align: right;\n",
       "    }\n",
       "</style>\n",
       "<table border=\"1\" class=\"dataframe\">\n",
       "  <thead>\n",
       "    <tr style=\"text-align: right;\">\n",
       "      <th></th>\n",
       "      <th>sensitivity</th>\n",
       "      <th>specificity</th>\n",
       "    </tr>\n",
       "  </thead>\n",
       "  <tbody>\n",
       "    <tr>\n",
       "      <th>0</th>\n",
       "      <td>0.750000</td>\n",
       "      <td>1.000000</td>\n",
       "    </tr>\n",
       "  </tbody>\n",
       "</table>\n",
       "</div>\n",
       "      <button class=\"colab-df-convert\" onclick=\"convertToInteractive('df-1df94117-26b7-4152-9ba7-b4d73c8e9726')\"\n",
       "              title=\"Convert this dataframe to an interactive table.\"\n",
       "              style=\"display:none;\">\n",
       "        \n",
       "  <svg xmlns=\"http://www.w3.org/2000/svg\" height=\"24px\"viewBox=\"0 0 24 24\"\n",
       "       width=\"24px\">\n",
       "    <path d=\"M0 0h24v24H0V0z\" fill=\"none\"/>\n",
       "    <path d=\"M18.56 5.44l.94 2.06.94-2.06 2.06-.94-2.06-.94-.94-2.06-.94 2.06-2.06.94zm-11 1L8.5 8.5l.94-2.06 2.06-.94-2.06-.94L8.5 2.5l-.94 2.06-2.06.94zm10 10l.94 2.06.94-2.06 2.06-.94-2.06-.94-.94-2.06-.94 2.06-2.06.94z\"/><path d=\"M17.41 7.96l-1.37-1.37c-.4-.4-.92-.59-1.43-.59-.52 0-1.04.2-1.43.59L10.3 9.45l-7.72 7.72c-.78.78-.78 2.05 0 2.83L4 21.41c.39.39.9.59 1.41.59.51 0 1.02-.2 1.41-.59l7.78-7.78 2.81-2.81c.8-.78.8-2.07 0-2.86zM5.41 20L4 18.59l7.72-7.72 1.47 1.35L5.41 20z\"/>\n",
       "  </svg>\n",
       "      </button>\n",
       "      \n",
       "  <style>\n",
       "    .colab-df-container {\n",
       "      display:flex;\n",
       "      flex-wrap:wrap;\n",
       "      gap: 12px;\n",
       "    }\n",
       "\n",
       "    .colab-df-convert {\n",
       "      background-color: #E8F0FE;\n",
       "      border: none;\n",
       "      border-radius: 50%;\n",
       "      cursor: pointer;\n",
       "      display: none;\n",
       "      fill: #1967D2;\n",
       "      height: 32px;\n",
       "      padding: 0 0 0 0;\n",
       "      width: 32px;\n",
       "    }\n",
       "\n",
       "    .colab-df-convert:hover {\n",
       "      background-color: #E2EBFA;\n",
       "      box-shadow: 0px 1px 2px rgba(60, 64, 67, 0.3), 0px 1px 3px 1px rgba(60, 64, 67, 0.15);\n",
       "      fill: #174EA6;\n",
       "    }\n",
       "\n",
       "    [theme=dark] .colab-df-convert {\n",
       "      background-color: #3B4455;\n",
       "      fill: #D2E3FC;\n",
       "    }\n",
       "\n",
       "    [theme=dark] .colab-df-convert:hover {\n",
       "      background-color: #434B5C;\n",
       "      box-shadow: 0px 1px 3px 1px rgba(0, 0, 0, 0.15);\n",
       "      filter: drop-shadow(0px 1px 2px rgba(0, 0, 0, 0.3));\n",
       "      fill: #FFFFFF;\n",
       "    }\n",
       "  </style>\n",
       "\n",
       "      <script>\n",
       "        const buttonEl =\n",
       "          document.querySelector('#df-1df94117-26b7-4152-9ba7-b4d73c8e9726 button.colab-df-convert');\n",
       "        buttonEl.style.display =\n",
       "          google.colab.kernel.accessAllowed ? 'block' : 'none';\n",
       "\n",
       "        async function convertToInteractive(key) {\n",
       "          const element = document.querySelector('#df-1df94117-26b7-4152-9ba7-b4d73c8e9726');\n",
       "          const dataTable =\n",
       "            await google.colab.kernel.invokeFunction('convertToInteractive',\n",
       "                                                     [key], {});\n",
       "          if (!dataTable) return;\n",
       "\n",
       "          const docLinkHtml = 'Like what you see? Visit the ' +\n",
       "            '<a target=\"_blank\" href=https://colab.research.google.com/notebooks/data_table.ipynb>data table notebook</a>'\n",
       "            + ' to learn more about interactive tables.';\n",
       "          element.innerHTML = '';\n",
       "          dataTable['output_type'] = 'display_data';\n",
       "          await google.colab.output.renderOutput(dataTable, element);\n",
       "          const docLink = document.createElement('div');\n",
       "          docLink.innerHTML = docLinkHtml;\n",
       "          element.appendChild(docLink);\n",
       "        }\n",
       "      </script>\n",
       "    </div>\n",
       "  </div>\n",
       "  "
      ]
     },
     "metadata": {},
     "execution_count": 43
    }
   ]
  },
  {
   "cell_type": "markdown",
   "source": [
    "<h3>Summery</h3>\n",
    "Overall it seems that most of the classifiers managed to learn well from<br>\n",
    "our representaion of the data and achived the highest accuracy, only Navie bayse had 1 mistake (classified a sample which is not relayted to the category as relayted to the category) "
   ],
   "metadata": {
    "id": "hop-3Lq8gBoG"
   }
  },
  {
   "cell_type": "code",
   "source": [
    "# saving the best classifiers of all the 4 models\n",
    "joblib.dump(best_classifier_knn, '../../TrainedClassificationModels/KNN_classifier.pkl')\n",
    "joblib.dump(best_classifier_SVM, '../../TrainedClassificationModels/SVM_classifier.pkl')\n",
    "joblib.dump(best_classifier_RF, '../../TrainedClassificationModels/RF_classifier.pkl')\n",
    "joblib.dump(best_classifier_NB, '../../TrainedClassificationModels/NB_classifier.pkl')"
   ],
   "metadata": {
    "id": "_a87KJjvg7ZI"
   },
   "execution_count": null,
   "outputs": []
  }
 ]
}